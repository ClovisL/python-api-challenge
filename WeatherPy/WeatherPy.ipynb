{
  "cells": [
    {
      "cell_type": "markdown",
      "metadata": {
        "id": "view-in-github",
        "colab_type": "text"
      },
      "source": [
        "<a href=\"https://colab.research.google.com/github/ClovisL/python-api-scripts/blob/main/WeatherPy/WeatherPy.ipynb\" target=\"_parent\"><img src=\"https://colab.research.google.com/assets/colab-badge.svg\" alt=\"Open In Colab\"/></a>"
      ]
    },
    {
      "cell_type": "markdown",
      "metadata": {
        "id": "eMYPJnW8NY51"
      },
      "source": [
        "# WeatherPy"
      ]
    },
    {
      "cell_type": "code",
      "execution_count": 6,
      "metadata": {
        "id": "tLAlc3OaNY52",
        "outputId": "4fc99ecf-40d5-47ba-98e8-c1050f58c350",
        "colab": {
          "base_uri": "https://localhost:8080/"
        }
      },
      "outputs": [
        {
          "output_type": "stream",
          "name": "stdout",
          "text": [
            "Requirement already satisfied: citipy in /usr/local/lib/python3.7/dist-packages (0.0.5)\n",
            "Requirement already satisfied: kdtree>=0.12 in /usr/local/lib/python3.7/dist-packages (from citipy) (0.16)\n"
          ]
        }
      ],
      "source": [
        "pip install citipy"
      ]
    },
    {
      "cell_type": "code",
      "source": [
        "from google.colab import drive\n",
        "drive.mount('/content/drive')"
      ],
      "metadata": {
        "id": "KpTVFoctNhqs",
        "outputId": "b7d2bf7e-7aaf-4686-f681-55fa43612c73",
        "colab": {
          "base_uri": "https://localhost:8080/"
        }
      },
      "execution_count": 7,
      "outputs": [
        {
          "output_type": "stream",
          "name": "stdout",
          "text": [
            "Drive already mounted at /content/drive; to attempt to forcibly remount, call drive.mount(\"/content/drive\", force_remount=True).\n"
          ]
        }
      ]
    },
    {
      "cell_type": "code",
      "execution_count": 8,
      "metadata": {
        "scrolled": true,
        "id": "X7jatDnENY53"
      },
      "outputs": [],
      "source": [
        "# Dependencies and Setup\n",
        "import matplotlib.pyplot as plt\n",
        "import pandas as pd\n",
        "import numpy as np\n",
        "import requests\n",
        "import time\n",
        "import scipy.stats as st\n",
        "from scipy.stats import linregress\n",
        "from datetime import datetime\n",
        "import sys\n",
        "sys.path.append('/content/drive/MyDrive')\n",
        "\n",
        "\n",
        "# Import API key\n",
        "from api_keys import weather_api_key\n",
        "\n",
        "# Incorporated citipy to determine city based on latitude and longitude\n",
        "from citipy import citipy\n",
        "\n",
        "# Output File (CSV)\n",
        "output_data_file = \"https://raw.githubusercontent.com/ClovisL/python-api-scripts/main/output_data/cities.csv\"\n",
        "\n",
        "# Range of latitudes and longitudes\n",
        "lat_range = (-90, 90)\n",
        "lng_range = (-180, 180)"
      ]
    },
    {
      "cell_type": "markdown",
      "metadata": {
        "id": "DK9G_IwyNY54"
      },
      "source": [
        "## Generate Cities List"
      ]
    },
    {
      "cell_type": "code",
      "execution_count": 9,
      "metadata": {
        "id": "954Gv_ZKNY54",
        "outputId": "636569ed-bcfa-48f4-b8f4-7e7bd723656f",
        "colab": {
          "base_uri": "https://localhost:8080/"
        }
      },
      "outputs": [
        {
          "output_type": "execute_result",
          "data": {
            "text/plain": [
              "606"
            ]
          },
          "metadata": {},
          "execution_count": 9
        }
      ],
      "source": [
        "# List for holding lat_lngs and cities\n",
        "lat_lngs = []\n",
        "cities = []\n",
        "\n",
        "# Create a set of random lat and lng combinations\n",
        "lats = np.random.uniform(lat_range[0], lat_range[1], size=1500)\n",
        "lngs = np.random.uniform(lng_range[0], lng_range[1], size=1500)\n",
        "lat_lngs = zip(lats, lngs)\n",
        "\n",
        "# Identify nearest city for each lat, lng combination\n",
        "for lat_lng in lat_lngs:\n",
        "    city = citipy.nearest_city(lat_lng[0], lat_lng[1]).city_name\n",
        "    \n",
        "    # If the city is unique, then add it to a our cities list\n",
        "    if city not in cities:\n",
        "        cities.append(city)\n",
        "\n",
        "# Print the city count to confirm sufficient count\n",
        "len(cities)"
      ]
    },
    {
      "cell_type": "markdown",
      "metadata": {
        "id": "pUedBuEYNY55"
      },
      "source": [
        "### Perform API Calls\n",
        "* Perform a weather check on each city using a series of successive API calls.\n",
        "* Include a print log of each city as it'sbeing processed (with the city number and city name).\n"
      ]
    },
    {
      "cell_type": "code",
      "execution_count": 10,
      "metadata": {
        "scrolled": true,
        "id": "gTB0IwWiNY56",
        "outputId": "dc10daf6-aabc-4fec-a760-42941f6f7d2b",
        "colab": {
          "base_uri": "https://localhost:8080/"
        }
      },
      "outputs": [
        {
          "output_type": "stream",
          "name": "stdout",
          "text": [
            "Beginning Data Retrieval\n",
            "--------------------------------\n",
            "Processing Record 1 of Set 1 | kapaa\n",
            "Processing Record 2 of Set 1 | mar del plata\n",
            "Processing Record 3 of Set 1 | vao\n",
            "Processing Record 4 of Set 1 | illoqqortoormiut\n",
            "illoqqortoormiut not found. Skipping...\n",
            "Processing Record 5 of Set 1 | rembang\n",
            "Processing Record 6 of Set 1 | taltal\n",
            "Processing Record 7 of Set 1 | roald\n",
            "Processing Record 8 of Set 1 | puerto varas\n",
            "Processing Record 9 of Set 1 | puerto ayora\n",
            "Processing Record 10 of Set 1 | vaitupu\n",
            "vaitupu not found. Skipping...\n",
            "Processing Record 11 of Set 1 | gander\n",
            "Processing Record 12 of Set 1 | airai\n",
            "Processing Record 13 of Set 1 | busselton\n",
            "Processing Record 14 of Set 1 | amderma\n",
            "amderma not found. Skipping...\n",
            "Processing Record 15 of Set 1 | georgetown\n",
            "Processing Record 16 of Set 1 | hithadhoo\n",
            "Processing Record 17 of Set 1 | arraial do cabo\n",
            "Processing Record 18 of Set 1 | rikitea\n",
            "Processing Record 19 of Set 1 | jamestown\n",
            "Processing Record 20 of Set 1 | taolanaro\n",
            "taolanaro not found. Skipping...\n",
            "Processing Record 21 of Set 1 | albany\n",
            "Processing Record 22 of Set 1 | barrow\n",
            "Processing Record 23 of Set 1 | felix perez cardozo\n",
            "felix perez cardozo not found. Skipping...\n",
            "Processing Record 24 of Set 1 | butaritari\n",
            "Processing Record 25 of Set 1 | chontalpa\n",
            "Processing Record 26 of Set 1 | ozgon\n",
            "ozgon not found. Skipping...\n",
            "Processing Record 27 of Set 1 | talnakh\n",
            "Processing Record 28 of Set 1 | awjilah\n",
            "Processing Record 29 of Set 1 | yulara\n",
            "Processing Record 30 of Set 1 | bredasdorp\n",
            "Processing Record 31 of Set 1 | punta arenas\n",
            "Processing Record 32 of Set 1 | victoria\n",
            "Processing Record 33 of Set 1 | qaanaaq\n",
            "Processing Record 34 of Set 1 | tahta\n",
            "Processing Record 35 of Set 1 | tuktoyaktuk\n",
            "Processing Record 36 of Set 1 | kamenka\n",
            "Processing Record 37 of Set 1 | port hedland\n",
            "Processing Record 38 of Set 1 | ivankiv\n",
            "Processing Record 39 of Set 1 | cayenne\n",
            "Processing Record 40 of Set 1 | pangody\n",
            "Processing Record 41 of Set 1 | kabo\n",
            "Processing Record 42 of Set 1 | hobyo\n",
            "Processing Record 43 of Set 1 | atuona\n",
            "Processing Record 44 of Set 1 | camara de lobos\n",
            "Processing Record 45 of Set 1 | nigran\n",
            "Processing Record 46 of Set 1 | beringovskiy\n",
            "Processing Record 47 of Set 1 | tasiilaq\n",
            "Processing Record 48 of Set 1 | carauari\n",
            "Processing Record 49 of Set 1 | new norfolk\n",
            "Processing Record 50 of Set 1 | saldanha\n",
            "Processing Record 1 of Set 2 | ushuaia\n",
            "Processing Record 2 of Set 2 | bluff\n",
            "Processing Record 3 of Set 2 | grand gaube\n",
            "Processing Record 4 of Set 2 | isangel\n",
            "Processing Record 5 of Set 2 | bubaque\n",
            "Processing Record 6 of Set 2 | husavik\n",
            "Processing Record 7 of Set 2 | vestmannaeyjar\n",
            "Processing Record 8 of Set 2 | hobart\n",
            "Processing Record 9 of Set 2 | edd\n",
            "Processing Record 10 of Set 2 | faanui\n",
            "Processing Record 11 of Set 2 | guiratinga\n",
            "Processing Record 12 of Set 2 | lebu\n",
            "Processing Record 13 of Set 2 | provideniya\n",
            "Processing Record 14 of Set 2 | yellowknife\n",
            "Processing Record 15 of Set 2 | torbay\n",
            "Processing Record 16 of Set 2 | whitianga\n",
            "Processing Record 17 of Set 2 | palabuhanratu\n",
            "palabuhanratu not found. Skipping...\n",
            "Processing Record 18 of Set 2 | meulaboh\n",
            "Processing Record 19 of Set 2 | chuy\n",
            "Processing Record 20 of Set 2 | iqaluit\n",
            "Processing Record 21 of Set 2 | clyde river\n",
            "Processing Record 22 of Set 2 | katherine\n",
            "Processing Record 23 of Set 2 | ostrovnoy\n",
            "Processing Record 24 of Set 2 | norsup\n",
            "Processing Record 25 of Set 2 | mackay\n",
            "Processing Record 26 of Set 2 | mahebourg\n",
            "Processing Record 27 of Set 2 | nemuro\n",
            "Processing Record 28 of Set 2 | marawi\n",
            "Processing Record 29 of Set 2 | nuuk\n",
            "Processing Record 30 of Set 2 | price\n",
            "Processing Record 31 of Set 2 | castro\n",
            "Processing Record 32 of Set 2 | bilibino\n",
            "Processing Record 33 of Set 2 | lorengau\n",
            "Processing Record 34 of Set 2 | cape town\n",
            "Processing Record 35 of Set 2 | kirkuk\n",
            "Processing Record 36 of Set 2 | bengkulu\n",
            "Processing Record 37 of Set 2 | tempoal\n",
            "tempoal not found. Skipping...\n",
            "Processing Record 38 of Set 2 | tari\n",
            "Processing Record 39 of Set 2 | sinkat\n",
            "sinkat not found. Skipping...\n",
            "Processing Record 40 of Set 2 | krasnoselkup\n",
            "Processing Record 41 of Set 2 | qianan\n",
            "Processing Record 42 of Set 2 | klaksvik\n",
            "Processing Record 43 of Set 2 | gorom-gorom\n",
            "Processing Record 44 of Set 2 | waipawa\n",
            "Processing Record 45 of Set 2 | saleaula\n",
            "saleaula not found. Skipping...\n",
            "Processing Record 46 of Set 2 | ust-maya\n",
            "Processing Record 47 of Set 2 | coahuayana\n",
            "Processing Record 48 of Set 2 | apatou\n",
            "Processing Record 49 of Set 2 | sile\n",
            "Processing Record 50 of Set 2 | chokurdakh\n",
            "Processing Record 1 of Set 3 | katsuura\n",
            "Processing Record 2 of Set 3 | namibe\n",
            "Processing Record 3 of Set 3 | kracheh\n",
            "kracheh not found. Skipping...\n",
            "Processing Record 4 of Set 3 | nikolskoye\n",
            "Processing Record 5 of Set 3 | paamiut\n",
            "Processing Record 6 of Set 3 | saint-philippe\n",
            "Processing Record 7 of Set 3 | qinggang\n",
            "Processing Record 8 of Set 3 | nizhneyansk\n",
            "nizhneyansk not found. Skipping...\n",
            "Processing Record 9 of Set 3 | bintulu\n",
            "Processing Record 10 of Set 3 | sept-iles\n",
            "Processing Record 11 of Set 3 | ribeira grande\n",
            "Processing Record 12 of Set 3 | san quintin\n",
            "Processing Record 13 of Set 3 | shaoyang\n",
            "Processing Record 14 of Set 3 | hilo\n",
            "Processing Record 15 of Set 3 | yumaguzino\n",
            "Processing Record 16 of Set 3 | luderitz\n",
            "Processing Record 17 of Set 3 | ancud\n",
            "Processing Record 18 of Set 3 | eyl\n",
            "Processing Record 19 of Set 3 | east london\n",
            "Processing Record 20 of Set 3 | esperance\n",
            "Processing Record 21 of Set 3 | coihaique\n",
            "Processing Record 22 of Set 3 | vilyuysk\n",
            "Processing Record 23 of Set 3 | ipixuna\n",
            "Processing Record 24 of Set 3 | bambous virieux\n",
            "Processing Record 25 of Set 3 | namie\n",
            "Processing Record 26 of Set 3 | ust-nera\n",
            "Processing Record 27 of Set 3 | hermanus\n",
            "Processing Record 28 of Set 3 | tsihombe\n",
            "tsihombe not found. Skipping...\n",
            "Processing Record 29 of Set 3 | lunavada\n",
            "Processing Record 30 of Set 3 | saskylakh\n",
            "Processing Record 31 of Set 3 | mandalgovi\n",
            "Processing Record 32 of Set 3 | lompoc\n",
            "Processing Record 33 of Set 3 | baruun-urt\n",
            "Processing Record 34 of Set 3 | belushya guba\n",
            "belushya guba not found. Skipping...\n",
            "Processing Record 35 of Set 3 | havre-saint-pierre\n",
            "Processing Record 36 of Set 3 | grindavik\n",
            "Processing Record 37 of Set 3 | caravelas\n",
            "Processing Record 38 of Set 3 | le port\n",
            "Processing Record 39 of Set 3 | olga\n",
            "Processing Record 40 of Set 3 | margate\n",
            "Processing Record 41 of Set 3 | toliary\n",
            "toliary not found. Skipping...\n",
            "Processing Record 42 of Set 3 | baker city\n",
            "Processing Record 43 of Set 3 | mataura\n",
            "Processing Record 44 of Set 3 | vardo\n",
            "Processing Record 45 of Set 3 | vagur\n",
            "Processing Record 46 of Set 3 | semnan\n",
            "Processing Record 47 of Set 3 | kaitangata\n",
            "Processing Record 48 of Set 3 | carnarvon\n",
            "Processing Record 49 of Set 3 | barentsburg\n",
            "barentsburg not found. Skipping...\n",
            "Processing Record 50 of Set 3 | mattawa\n",
            "Processing Record 1 of Set 4 | sao jose da coroa grande\n",
            "Processing Record 2 of Set 4 | deniliquin\n",
            "Processing Record 3 of Set 4 | bonthe\n",
            "Processing Record 4 of Set 4 | nishihara\n",
            "Processing Record 5 of Set 4 | tateyama\n",
            "Processing Record 6 of Set 4 | komsomolskiy\n",
            "Processing Record 7 of Set 4 | avarua\n",
            "Processing Record 8 of Set 4 | hambantota\n",
            "Processing Record 9 of Set 4 | lata\n",
            "Processing Record 10 of Set 4 | upernavik\n",
            "Processing Record 11 of Set 4 | auki\n",
            "Processing Record 12 of Set 4 | vostok\n",
            "Processing Record 13 of Set 4 | koungheul\n",
            "Processing Record 14 of Set 4 | tuatapere\n",
            "Processing Record 15 of Set 4 | half moon bay\n",
            "Processing Record 16 of Set 4 | laguna\n",
            "Processing Record 17 of Set 4 | buala\n",
            "Processing Record 18 of Set 4 | ahipara\n",
            "Processing Record 19 of Set 4 | anticala\n",
            "Processing Record 20 of Set 4 | thompson\n",
            "Processing Record 21 of Set 4 | poum\n",
            "Processing Record 22 of Set 4 | odesskoye\n",
            "Processing Record 23 of Set 4 | harper\n",
            "Processing Record 24 of Set 4 | agadez\n",
            "Processing Record 25 of Set 4 | umm lajj\n",
            "Processing Record 26 of Set 4 | terrace\n",
            "Processing Record 27 of Set 4 | san patricio\n",
            "Processing Record 28 of Set 4 | senekal\n",
            "Processing Record 29 of Set 4 | acapulco\n",
            "Processing Record 30 of Set 4 | pangkalanbuun\n",
            "Processing Record 31 of Set 4 | jalu\n",
            "Processing Record 32 of Set 4 | fengcheng\n",
            "Processing Record 33 of Set 4 | port alfred\n",
            "Processing Record 34 of Set 4 | mys shmidta\n",
            "mys shmidta not found. Skipping...\n",
            "Processing Record 35 of Set 4 | bongandanga\n",
            "Processing Record 36 of Set 4 | tomislavgrad\n",
            "Processing Record 37 of Set 4 | koungou\n",
            "Processing Record 38 of Set 4 | vaini\n",
            "Processing Record 39 of Set 4 | nabire\n",
            "Processing Record 40 of Set 4 | port hardy\n",
            "Processing Record 41 of Set 4 | canchungo\n",
            "Processing Record 42 of Set 4 | puerto narino\n",
            "Processing Record 43 of Set 4 | mosquera\n",
            "Processing Record 44 of Set 4 | togur\n",
            "Processing Record 45 of Set 4 | lagoa\n",
            "Processing Record 46 of Set 4 | ahome\n",
            "Processing Record 47 of Set 4 | viedma\n",
            "Processing Record 48 of Set 4 | vilhena\n",
            "Processing Record 49 of Set 4 | dikson\n",
            "Processing Record 50 of Set 4 | urumqi\n",
            "Processing Record 1 of Set 5 | saint george\n",
            "Processing Record 2 of Set 5 | mizdah\n",
            "Processing Record 3 of Set 5 | ola\n",
            "Processing Record 4 of Set 5 | phan thiet\n",
            "Processing Record 5 of Set 5 | mangan\n",
            "Processing Record 6 of Set 5 | bar harbor\n",
            "Processing Record 7 of Set 5 | mezen\n",
            "Processing Record 8 of Set 5 | yvetot\n",
            "Processing Record 9 of Set 5 | progreso\n",
            "Processing Record 10 of Set 5 | cidreira\n",
            "Processing Record 11 of Set 5 | peleduy\n",
            "Processing Record 12 of Set 5 | rawson\n",
            "Processing Record 13 of Set 5 | dunedin\n",
            "Processing Record 14 of Set 5 | sao francisco\n",
            "Processing Record 15 of Set 5 | samusu\n",
            "samusu not found. Skipping...\n",
            "Processing Record 16 of Set 5 | mount gambier\n",
            "Processing Record 17 of Set 5 | vidim\n",
            "Processing Record 18 of Set 5 | maarianhamina\n",
            "Processing Record 19 of Set 5 | touros\n",
            "Processing Record 20 of Set 5 | ilulissat\n",
            "Processing Record 21 of Set 5 | biak\n",
            "Processing Record 22 of Set 5 | bur gabo\n",
            "bur gabo not found. Skipping...\n",
            "Processing Record 23 of Set 5 | rosarito\n",
            "Processing Record 24 of Set 5 | kamenskoye\n",
            "kamenskoye not found. Skipping...\n",
            "Processing Record 25 of Set 5 | wuchi\n",
            "Processing Record 26 of Set 5 | adrar\n",
            "Processing Record 27 of Set 5 | high level\n",
            "Processing Record 28 of Set 5 | alotau\n",
            "alotau not found. Skipping...\n",
            "Processing Record 29 of Set 5 | inhambane\n",
            "Processing Record 30 of Set 5 | esso\n",
            "Processing Record 31 of Set 5 | bethel\n",
            "Processing Record 32 of Set 5 | mirina\n",
            "mirina not found. Skipping...\n",
            "Processing Record 33 of Set 5 | cumana\n",
            "Processing Record 34 of Set 5 | grand river south east\n",
            "grand river south east not found. Skipping...\n",
            "Processing Record 35 of Set 5 | fortuna\n",
            "Processing Record 36 of Set 5 | geraldton\n",
            "Processing Record 37 of Set 5 | tautira\n",
            "Processing Record 38 of Set 5 | parkent\n",
            "Processing Record 39 of Set 5 | tiksi\n",
            "Processing Record 40 of Set 5 | portland\n",
            "Processing Record 41 of Set 5 | rio grande\n",
            "Processing Record 42 of Set 5 | mikhaylovka\n",
            "Processing Record 43 of Set 5 | port lincoln\n",
            "Processing Record 44 of Set 5 | fairbanks\n",
            "Processing Record 45 of Set 5 | porbandar\n",
            "Processing Record 46 of Set 5 | novobirilyussy\n",
            "Processing Record 47 of Set 5 | longyearbyen\n",
            "Processing Record 48 of Set 5 | pacifica\n",
            "Processing Record 49 of Set 5 | comodoro rivadavia\n",
            "Processing Record 50 of Set 5 | chapleau\n",
            "Processing Record 1 of Set 6 | ekhabi\n",
            "Processing Record 2 of Set 6 | warrington\n",
            "Processing Record 3 of Set 6 | saint-agapit\n",
            "Processing Record 4 of Set 6 | namatanai\n",
            "Processing Record 5 of Set 6 | broome\n",
            "Processing Record 6 of Set 6 | gornopravdinsk\n",
            "Processing Record 7 of Set 6 | bathsheba\n",
            "Processing Record 8 of Set 6 | sterling\n",
            "Processing Record 9 of Set 6 | ormara\n",
            "Processing Record 10 of Set 6 | green river\n",
            "Processing Record 11 of Set 6 | yar-sale\n",
            "Processing Record 12 of Set 6 | kahului\n",
            "Processing Record 13 of Set 6 | mount isa\n",
            "Processing Record 14 of Set 6 | hofn\n",
            "Processing Record 15 of Set 6 | lalomanu\n",
            "lalomanu not found. Skipping...\n",
            "Processing Record 16 of Set 6 | port elizabeth\n",
            "Processing Record 17 of Set 6 | kokopo\n",
            "Processing Record 18 of Set 6 | visnes\n",
            "Processing Record 19 of Set 6 | surgut\n",
            "Processing Record 20 of Set 6 | meadow lake\n",
            "Processing Record 21 of Set 6 | kashi\n",
            "Processing Record 22 of Set 6 | tangzhai\n",
            "Processing Record 23 of Set 6 | jiuquan\n",
            "Processing Record 24 of Set 6 | hasaki\n",
            "Processing Record 25 of Set 6 | aflu\n",
            "aflu not found. Skipping...\n",
            "Processing Record 26 of Set 6 | grafton\n",
            "Processing Record 27 of Set 6 | severo-kurilsk\n",
            "Processing Record 28 of Set 6 | jhalu\n",
            "Processing Record 29 of Set 6 | port-gentil\n",
            "Processing Record 30 of Set 6 | manavalakurichi\n",
            "Processing Record 31 of Set 6 | te anau\n",
            "Processing Record 32 of Set 6 | abu samrah\n",
            "Processing Record 33 of Set 6 | ixtapa\n",
            "Processing Record 34 of Set 6 | vila franca do campo\n",
            "Processing Record 35 of Set 6 | araouane\n",
            "Processing Record 36 of Set 6 | yingkou\n",
            "Processing Record 37 of Set 6 | buraydah\n",
            "Processing Record 38 of Set 6 | kieta\n",
            "Processing Record 39 of Set 6 | iaciara\n",
            "Processing Record 40 of Set 6 | neiafu\n",
            "Processing Record 41 of Set 6 | ust-tsilma\n",
            "Processing Record 42 of Set 6 | aklavik\n",
            "Processing Record 43 of Set 6 | barbar\n",
            "barbar not found. Skipping...\n",
            "Processing Record 44 of Set 6 | belaya gora\n",
            "Processing Record 45 of Set 6 | cochrane\n",
            "Processing Record 46 of Set 6 | mehran\n",
            "Processing Record 47 of Set 6 | sangar\n",
            "Processing Record 48 of Set 6 | amursk\n",
            "Processing Record 49 of Set 6 | seydisehir\n",
            "Processing Record 50 of Set 6 | la ronge\n",
            "Processing Record 1 of Set 7 | oranjemund\n",
            "Processing Record 2 of Set 7 | robe\n",
            "Processing Record 3 of Set 7 | coquimbo\n",
            "Processing Record 4 of Set 7 | norman wells\n",
            "Processing Record 5 of Set 7 | mouzakion\n",
            "mouzakion not found. Skipping...\n",
            "Processing Record 6 of Set 7 | salalah\n",
            "Processing Record 7 of Set 7 | gardan diwal\n",
            "gardan diwal not found. Skipping...\n",
            "Processing Record 8 of Set 7 | hanna\n",
            "Processing Record 9 of Set 7 | mbaiki\n",
            "Processing Record 10 of Set 7 | kigoma\n",
            "Processing Record 11 of Set 7 | fez\n",
            "Processing Record 12 of Set 7 | codrington\n",
            "Processing Record 13 of Set 7 | yasnyy\n",
            "Processing Record 14 of Set 7 | hamilton\n",
            "Processing Record 15 of Set 7 | itoman\n",
            "Processing Record 16 of Set 7 | panaba\n",
            "Processing Record 17 of Set 7 | tromso\n",
            "Processing Record 18 of Set 7 | sao filipe\n",
            "Processing Record 19 of Set 7 | ponta do sol\n",
            "Processing Record 20 of Set 7 | soloneshnoye\n",
            "Processing Record 21 of Set 7 | sitka\n",
            "Processing Record 22 of Set 7 | lavrentiya\n",
            "Processing Record 23 of Set 7 | attawapiskat\n",
            "attawapiskat not found. Skipping...\n",
            "Processing Record 24 of Set 7 | juneau\n",
            "Processing Record 25 of Set 7 | vallenar\n",
            "Processing Record 26 of Set 7 | blackwater\n",
            "Processing Record 27 of Set 7 | rudnogorsk\n",
            "Processing Record 28 of Set 7 | minab\n",
            "Processing Record 29 of Set 7 | birao\n",
            "Processing Record 30 of Set 7 | huambo\n",
            "Processing Record 31 of Set 7 | porto novo\n",
            "Processing Record 32 of Set 7 | yabrud\n",
            "Processing Record 33 of Set 7 | jose de freitas\n",
            "Processing Record 34 of Set 7 | altay\n",
            "Processing Record 35 of Set 7 | port moresby\n",
            "Processing Record 36 of Set 7 | tigil\n",
            "Processing Record 37 of Set 7 | kibala\n",
            "Processing Record 38 of Set 7 | wollongong\n",
            "Processing Record 39 of Set 7 | hami\n",
            "Processing Record 40 of Set 7 | egvekinot\n",
            "Processing Record 41 of Set 7 | hanyang\n",
            "Processing Record 42 of Set 7 | kozhva\n",
            "Processing Record 43 of Set 7 | kontagora\n",
            "Processing Record 44 of Set 7 | kurumkan\n",
            "Processing Record 45 of Set 7 | warqla\n",
            "warqla not found. Skipping...\n",
            "Processing Record 46 of Set 7 | olafsvik\n",
            "Processing Record 47 of Set 7 | karaul\n",
            "karaul not found. Skipping...\n",
            "Processing Record 48 of Set 7 | suleja\n",
            "Processing Record 49 of Set 7 | liliani\n",
            "Processing Record 50 of Set 7 | nanortalik\n",
            "Processing Record 1 of Set 8 | sorland\n",
            "Processing Record 2 of Set 8 | statesboro\n",
            "Processing Record 3 of Set 8 | mpongwe\n",
            "Processing Record 4 of Set 8 | nioro\n",
            "Processing Record 5 of Set 8 | avera\n",
            "Processing Record 6 of Set 8 | craig\n",
            "Processing Record 7 of Set 8 | praia da vitoria\n",
            "Processing Record 8 of Set 8 | northam\n",
            "Processing Record 9 of Set 8 | cabo san lucas\n",
            "Processing Record 10 of Set 8 | sistranda\n",
            "Processing Record 11 of Set 8 | tuyen quang\n",
            "Processing Record 12 of Set 8 | saint-augustin\n",
            "Processing Record 13 of Set 8 | bjornevatn\n",
            "Processing Record 14 of Set 8 | talcahuano\n",
            "Processing Record 15 of Set 8 | port-de-paix\n",
            "port-de-paix not found. Skipping...\n",
            "Processing Record 16 of Set 8 | sheridan\n",
            "Processing Record 17 of Set 8 | san francisco de coray\n",
            "Processing Record 18 of Set 8 | nouadhibou\n",
            "Processing Record 19 of Set 8 | killarney\n",
            "Processing Record 20 of Set 8 | bonavista\n",
            "Processing Record 21 of Set 8 | kirovskiy\n",
            "Processing Record 22 of Set 8 | nowogard\n",
            "Processing Record 23 of Set 8 | galle\n",
            "Processing Record 24 of Set 8 | monte gordo\n",
            "Processing Record 25 of Set 8 | marsh harbour\n",
            "Processing Record 26 of Set 8 | gudari\n",
            "Processing Record 27 of Set 8 | tumannyy\n",
            "tumannyy not found. Skipping...\n",
            "Processing Record 28 of Set 8 | kalmunai\n",
            "Processing Record 29 of Set 8 | am timan\n",
            "Processing Record 30 of Set 8 | saint anthony\n",
            "Processing Record 31 of Set 8 | tunduru\n",
            "tunduru not found. Skipping...\n",
            "Processing Record 32 of Set 8 | gopalpur\n",
            "Processing Record 33 of Set 8 | acarau\n",
            "Processing Record 34 of Set 8 | vila velha\n",
            "Processing Record 35 of Set 8 | narrabri\n",
            "Processing Record 36 of Set 8 | dzhusaly\n",
            "dzhusaly not found. Skipping...\n",
            "Processing Record 37 of Set 8 | vilcun\n",
            "Processing Record 38 of Set 8 | anadyr\n",
            "Processing Record 39 of Set 8 | kidal\n",
            "Processing Record 40 of Set 8 | coffs harbour\n",
            "Processing Record 41 of Set 8 | the valley\n",
            "Processing Record 42 of Set 8 | vanimo\n",
            "Processing Record 43 of Set 8 | waingapu\n",
            "Processing Record 44 of Set 8 | kawalu\n",
            "Processing Record 45 of Set 8 | sioux lookout\n",
            "Processing Record 46 of Set 8 | khatanga\n",
            "Processing Record 47 of Set 8 | jiaozuo\n",
            "Processing Record 48 of Set 8 | cairns\n",
            "Processing Record 49 of Set 8 | ocos\n",
            "Processing Record 50 of Set 8 | marienburg\n",
            "Processing Record 1 of Set 9 | sinnamary\n",
            "Processing Record 2 of Set 9 | simao\n",
            "Processing Record 3 of Set 9 | evensk\n",
            "Processing Record 4 of Set 9 | bontang\n",
            "Processing Record 5 of Set 9 | los banos\n",
            "Processing Record 6 of Set 9 | mastic beach\n",
            "Processing Record 7 of Set 9 | samarai\n",
            "Processing Record 8 of Set 9 | bardsir\n",
            "Processing Record 9 of Set 9 | tanete\n",
            "Processing Record 10 of Set 9 | sentyabrskiy\n",
            "sentyabrskiy not found. Skipping...\n",
            "Processing Record 11 of Set 9 | sobolevo\n",
            "Processing Record 12 of Set 9 | baita de sub codru\n",
            "Processing Record 13 of Set 9 | flinders\n",
            "Processing Record 14 of Set 9 | hendijan\n",
            "hendijan not found. Skipping...\n",
            "Processing Record 15 of Set 9 | longonjo\n",
            "Processing Record 16 of Set 9 | salym\n",
            "Processing Record 17 of Set 9 | teya\n",
            "Processing Record 18 of Set 9 | burnie\n",
            "Processing Record 19 of Set 9 | zyryanka\n",
            "Processing Record 20 of Set 9 | xai-xai\n",
            "Processing Record 21 of Set 9 | guerrero negro\n",
            "Processing Record 22 of Set 9 | tura\n",
            "Processing Record 23 of Set 9 | heide\n",
            "Processing Record 24 of Set 9 | seymchan\n",
            "Processing Record 25 of Set 9 | tecoanapa\n",
            "Processing Record 26 of Set 9 | ravar\n",
            "Processing Record 27 of Set 9 | japura\n",
            "Processing Record 28 of Set 9 | la paz\n",
            "Processing Record 29 of Set 9 | nago\n",
            "Processing Record 30 of Set 9 | capaci\n",
            "Processing Record 31 of Set 9 | angoche\n",
            "Processing Record 32 of Set 9 | fort dodge\n",
            "Processing Record 33 of Set 9 | mayo\n",
            "Processing Record 34 of Set 9 | dezful\n",
            "Processing Record 35 of Set 9 | pelym\n",
            "Processing Record 36 of Set 9 | marshfield\n",
            "Processing Record 37 of Set 9 | beidao\n",
            "Processing Record 38 of Set 9 | caucaia\n",
            "Processing Record 39 of Set 9 | atikokan\n",
            "Processing Record 40 of Set 9 | hunza\n",
            "hunza not found. Skipping...\n",
            "Processing Record 41 of Set 9 | yerbogachen\n",
            "Processing Record 42 of Set 9 | paramonga\n",
            "Processing Record 43 of Set 9 | porto walter\n",
            "Processing Record 44 of Set 9 | pevek\n",
            "Processing Record 45 of Set 9 | eucaliptus\n",
            "Processing Record 46 of Set 9 | denpasar\n",
            "Processing Record 47 of Set 9 | dali\n",
            "Processing Record 48 of Set 9 | sideropolis\n",
            "Processing Record 49 of Set 9 | bereda\n",
            "Processing Record 50 of Set 9 | pathein\n",
            "Processing Record 1 of Set 10 | kavieng\n",
            "Processing Record 2 of Set 10 | linares\n",
            "Processing Record 3 of Set 10 | andenes\n",
            "Processing Record 4 of Set 10 | lacey\n",
            "Processing Record 5 of Set 10 | paranga\n",
            "Processing Record 6 of Set 10 | isoka\n",
            "Processing Record 7 of Set 10 | piacabucu\n",
            "Processing Record 8 of Set 10 | seoul\n",
            "Processing Record 9 of Set 10 | zelenoborsk\n",
            "Processing Record 10 of Set 10 | bonawon\n",
            "Processing Record 11 of Set 10 | aitape\n",
            "Processing Record 12 of Set 10 | tazovskiy\n",
            "Processing Record 13 of Set 10 | daru\n",
            "Processing Record 14 of Set 10 | cortez\n",
            "Processing Record 15 of Set 10 | polovinnoye\n",
            "Processing Record 16 of Set 10 | obo\n",
            "Processing Record 17 of Set 10 | ovalle\n",
            "Processing Record 18 of Set 10 | alcacer do sal\n",
            "Processing Record 19 of Set 10 | kiunga\n",
            "Processing Record 20 of Set 10 | santa clara\n",
            "Processing Record 21 of Set 10 | north bend\n",
            "Processing Record 22 of Set 10 | nisia floresta\n",
            "Processing Record 23 of Set 10 | kodiak\n",
            "Processing Record 24 of Set 10 | palembang\n",
            "Processing Record 25 of Set 10 | rabo de peixe\n",
            "Processing Record 26 of Set 10 | gizo\n",
            "Processing Record 27 of Set 10 | saint-paul\n",
            "Processing Record 28 of Set 10 | kollam\n",
            "Processing Record 29 of Set 10 | erzin\n",
            "Processing Record 30 of Set 10 | qena\n",
            "Processing Record 31 of Set 10 | zhengjiatun\n",
            "Processing Record 32 of Set 10 | thongwa\n",
            "Processing Record 33 of Set 10 | bac lieu\n",
            "Processing Record 34 of Set 10 | ranong\n",
            "Processing Record 35 of Set 10 | along\n",
            "Processing Record 36 of Set 10 | puerto rondon\n",
            "Processing Record 37 of Set 10 | saumur\n",
            "Processing Record 38 of Set 10 | werda\n",
            "Processing Record 39 of Set 10 | suzu\n",
            "suzu not found. Skipping...\n",
            "Processing Record 40 of Set 10 | alice springs\n",
            "Processing Record 41 of Set 10 | jacmel\n",
            "Processing Record 42 of Set 10 | ndende\n",
            "Processing Record 43 of Set 10 | parabel\n",
            "Processing Record 44 of Set 10 | mogadishu\n",
            "Processing Record 45 of Set 10 | pouembout\n",
            "Processing Record 46 of Set 10 | sauda\n",
            "Processing Record 47 of Set 10 | xuanhua\n",
            "Processing Record 48 of Set 10 | tawnat\n",
            "tawnat not found. Skipping...\n",
            "Processing Record 49 of Set 10 | qaqortoq\n",
            "Processing Record 50 of Set 10 | houma\n",
            "Processing Record 1 of Set 11 | uribia\n",
            "Processing Record 2 of Set 11 | lerwick\n",
            "Processing Record 3 of Set 11 | caledon\n",
            "Processing Record 4 of Set 11 | ngukurr\n",
            "ngukurr not found. Skipping...\n",
            "Processing Record 5 of Set 11 | orel-izumrud\n",
            "Processing Record 6 of Set 11 | chapais\n",
            "Processing Record 7 of Set 11 | leningradskiy\n",
            "Processing Record 8 of Set 11 | malyn\n",
            "Processing Record 9 of Set 11 | jabiru\n",
            "jabiru not found. Skipping...\n",
            "Processing Record 10 of Set 11 | maralal\n",
            "Processing Record 11 of Set 11 | huangnihe\n",
            "Processing Record 12 of Set 11 | kuito\n",
            "Processing Record 13 of Set 11 | port shepstone\n",
            "Processing Record 14 of Set 11 | ballina\n",
            "Processing Record 15 of Set 11 | cherskiy\n",
            "Processing Record 16 of Set 11 | kloulklubed\n",
            "Processing Record 17 of Set 11 | tabou\n",
            "Processing Record 18 of Set 11 | aurora\n",
            "Processing Record 19 of Set 11 | whitehorse\n",
            "Processing Record 20 of Set 11 | teguise\n",
            "Processing Record 21 of Set 11 | bemidji\n",
            "Processing Record 22 of Set 11 | knysna\n",
            "Processing Record 23 of Set 11 | aswan\n",
            "Processing Record 24 of Set 11 | gambiran\n",
            "Processing Record 25 of Set 11 | opunake\n",
            "Processing Record 26 of Set 11 | hirtshals\n",
            "Processing Record 27 of Set 11 | srednekolymsk\n",
            "Processing Record 28 of Set 11 | ryotsu\n",
            "Processing Record 29 of Set 11 | azul\n",
            "Processing Record 30 of Set 11 | hienghene\n",
            "Processing Record 31 of Set 11 | karakendzha\n",
            "karakendzha not found. Skipping...\n",
            "Processing Record 32 of Set 11 | kamwenge\n",
            "Processing Record 33 of Set 11 | omboue\n",
            "Processing Record 34 of Set 11 | male\n",
            "Processing Record 35 of Set 11 | tyler\n",
            "Processing Record 36 of Set 11 | rabat\n",
            "Processing Record 37 of Set 11 | visalia\n",
            "Processing Record 38 of Set 11 | rio gallegos\n",
            "Processing Record 39 of Set 11 | kudahuvadhoo\n",
            "Processing Record 40 of Set 11 | nouakchott\n",
            "Processing Record 41 of Set 11 | andrews\n",
            "Processing Record 42 of Set 11 | songea\n",
            "Processing Record 43 of Set 11 | vila\n",
            "Processing Record 44 of Set 11 | marcona\n",
            "marcona not found. Skipping...\n",
            "Processing Record 45 of Set 11 | zaragoza\n",
            "Processing Record 46 of Set 11 | great yarmouth\n",
            "Processing Record 47 of Set 11 | timizart\n",
            "Processing Record 48 of Set 11 | zhezkazgan\n",
            "Processing Record 49 of Set 11 | amapa\n",
            "Processing Record 50 of Set 11 | conceicao da barra\n",
            "Processing Record 1 of Set 12 | luanda\n",
            "Processing Record 2 of Set 12 | la libertad\n",
            "Processing Record 3 of Set 12 | vero beach\n",
            "Processing Record 4 of Set 12 | nicoya\n",
            "Processing Record 5 of Set 12 | zhigansk\n",
            "Processing Record 6 of Set 12 | lykhivka\n",
            "Processing Record 7 of Set 12 | asuncion\n",
            "Processing Record 8 of Set 12 | ketchikan\n",
            "Processing Record 9 of Set 12 | bilma\n",
            "Processing Record 10 of Set 12 | san carlos de bariloche\n",
            "Processing Record 11 of Set 12 | sabang\n",
            "Processing Record 12 of Set 12 | salvacion\n",
            "Processing Record 13 of Set 12 | ponta delgada\n",
            "Processing Record 14 of Set 12 | cheyenne\n",
            "Processing Record 15 of Set 12 | manjakandriana\n",
            "Processing Record 16 of Set 12 | road town\n",
            "Processing Record 17 of Set 12 | veraval\n",
            "Processing Record 18 of Set 12 | belmonte\n",
            "Processing Record 19 of Set 12 | amaigbo\n",
            "Processing Record 20 of Set 12 | ayna\n",
            "Processing Record 21 of Set 12 | manjacaze\n",
            "Processing Record 22 of Set 12 | tabiauea\n",
            "tabiauea not found. Skipping...\n",
            "Processing Record 23 of Set 12 | champerico\n",
            "Processing Record 24 of Set 12 | prieska\n",
            "Processing Record 25 of Set 12 | mahibadhoo\n",
            "Processing Record 26 of Set 12 | wicklow\n",
            "Processing Record 27 of Set 12 | luba\n",
            "Processing Record 28 of Set 12 | crucea\n",
            "Processing Record 29 of Set 12 | biltine\n",
            "Processing Record 30 of Set 12 | loandjili\n",
            "Processing Record 31 of Set 12 | bandarbeyla\n",
            "Processing Record 32 of Set 12 | kuche\n",
            "kuche not found. Skipping...\n",
            "Processing Record 33 of Set 12 | the pas\n",
            "Processing Record 34 of Set 12 | campina grande do sul\n",
            "Processing Record 35 of Set 12 | constitucion\n",
            "Processing Record 36 of Set 12 | tocopilla\n",
            "Processing Record 37 of Set 12 | dukat\n",
            "Processing Record 38 of Set 12 | grand centre\n",
            "grand centre not found. Skipping...\n",
            "Processing Record 39 of Set 12 | boa vista\n",
            "Processing Record 40 of Set 12 | sarigyukh\n",
            "sarigyukh not found. Skipping...\n",
            "Processing Record 41 of Set 12 | olinda\n",
            "Processing Record 42 of Set 12 | pacific grove\n",
            "Processing Record 43 of Set 12 | qeshm\n",
            "Processing Record 44 of Set 12 | rurrenabaque\n",
            "Processing Record 45 of Set 12 | bengkalis\n",
            "bengkalis not found. Skipping...\n",
            "Processing Record 46 of Set 12 | padang\n",
            "Processing Record 47 of Set 12 | weinan\n",
            "Processing Record 48 of Set 12 | sagua de tanamo\n",
            "Processing Record 49 of Set 12 | ngora\n",
            "Processing Record 50 of Set 12 | teguldet\n",
            "Processing Record 1 of Set 13 | saint-francois\n",
            "Processing Record 2 of Set 13 | gat\n",
            "Processing Record 3 of Set 13 | makat\n",
            "Processing Record 4 of Set 13 | cehegin\n",
            "Processing Record 5 of Set 13 | chincholi\n",
            "Processing Record 6 of Set 13 | santa teresa\n"
          ]
        }
      ],
      "source": [
        "# Base url\n",
        "url = f\"http://api.openweathermap.org/data/2.5/weather?units=imperial&appid={weather_api_key}&q=\"\n",
        "\n",
        "# List of city data\n",
        "cityData = []\n",
        "\n",
        "# Grouping variables\n",
        "# Group\n",
        "set_count = 1\n",
        "# Record within group\n",
        "record = 1\n",
        "\n",
        "print(\"Beginning Data Retrieval\")\n",
        "print(\"--------------------------------\")\n",
        "\n",
        "for i, city in enumerate(cities):\n",
        "    # group the cities in sets of 50\n",
        "    if (i % 50 == 0 and i >= 50):\n",
        "        set_count += 1\n",
        "        record = 1\n",
        "        \n",
        "    # Output the record and group being processed\n",
        "    print(f\"Processing Record {record} of Set {set_count} | {city}\")\n",
        "    \n",
        "    # Increase record number in the set\n",
        "    record += 1\n",
        "    \n",
        "    # Create URL that includes city\n",
        "    cityURL = url + city\n",
        "    \n",
        "    # Call the OpenWeather API\n",
        "    try:\n",
        "        cityWeather = requests.get(cityURL).json()\n",
        "        \n",
        "        # Parse out data\n",
        "        lat = cityWeather[\"coord\"][\"lat\"]\n",
        "        lng = cityWeather[\"coord\"][\"lon\"]\n",
        "        maxTemp = cityWeather[\"main\"][\"temp_max\"]\n",
        "        humidity = cityWeather[\"main\"][\"humidity\"]\n",
        "        cloudiness = cityWeather[\"clouds\"][\"all\"]\n",
        "        windspeed = cityWeather[\"wind\"][\"speed\"]\n",
        "        country = cityWeather[\"sys\"][\"country\"]\n",
        "        date = cityWeather[\"dt\"]\n",
        "        \n",
        "        cityData.append({\"City\": city,\n",
        "                        \"Lat\": lat,\n",
        "                        \"Lng\": lng,\n",
        "                        \"Max Temp\": maxTemp,\n",
        "                        \"Humidity\": humidity,\n",
        "                        \"Cloudiness\": cloudiness,\n",
        "                        \"Wind Speed\": windspeed,\n",
        "                         \"Country\": country, \n",
        "                        \"Date\": date})\n",
        "    except:\n",
        "        print(f\"{city} not found. Skipping...\")\n",
        "        pass"
      ]
    },
    {
      "cell_type": "markdown",
      "metadata": {
        "id": "9Dl6qo_INY57"
      },
      "source": [
        "### Convert Raw Data to DataFrame\n",
        "* Export the city data into a .csv.\n",
        "* Display the DataFrame"
      ]
    },
    {
      "cell_type": "code",
      "execution_count": 11,
      "metadata": {
        "id": "hAtlocHTNY57"
      },
      "outputs": [],
      "source": [
        "# Creates a data frame out of the raw data, and exports it as a csv\n",
        "cityData_df = pd.DataFrame(cityData)\n",
        "cityData_df.to_csv(output_data_file, index=False)"
      ]
    },
    {
      "cell_type": "code",
      "execution_count": 12,
      "metadata": {
        "id": "M37g9v-UNY57",
        "outputId": "9fbf0225-1cf1-495a-aee8-e721484d9c23",
        "colab": {
          "base_uri": "https://localhost:8080/",
          "height": 423
        }
      },
      "outputs": [
        {
          "output_type": "execute_result",
          "data": {
            "text/html": [
              "\n",
              "  <div id=\"df-1de6721e-ece1-4853-8e48-afa1ff6e8f43\">\n",
              "    <div class=\"colab-df-container\">\n",
              "      <div>\n",
              "<style scoped>\n",
              "    .dataframe tbody tr th:only-of-type {\n",
              "        vertical-align: middle;\n",
              "    }\n",
              "\n",
              "    .dataframe tbody tr th {\n",
              "        vertical-align: top;\n",
              "    }\n",
              "\n",
              "    .dataframe thead th {\n",
              "        text-align: right;\n",
              "    }\n",
              "</style>\n",
              "<table border=\"1\" class=\"dataframe\">\n",
              "  <thead>\n",
              "    <tr style=\"text-align: right;\">\n",
              "      <th></th>\n",
              "      <th>City</th>\n",
              "      <th>Lat</th>\n",
              "      <th>Lng</th>\n",
              "      <th>Max Temp</th>\n",
              "      <th>Humidity</th>\n",
              "      <th>Cloudiness</th>\n",
              "      <th>Wind Speed</th>\n",
              "      <th>Country</th>\n",
              "      <th>Date</th>\n",
              "    </tr>\n",
              "  </thead>\n",
              "  <tbody>\n",
              "    <tr>\n",
              "      <th>0</th>\n",
              "      <td>kapaa</td>\n",
              "      <td>22.0752</td>\n",
              "      <td>-159.3190</td>\n",
              "      <td>65.12</td>\n",
              "      <td>59</td>\n",
              "      <td>0</td>\n",
              "      <td>2.15</td>\n",
              "      <td>US</td>\n",
              "      <td>1644573686</td>\n",
              "    </tr>\n",
              "    <tr>\n",
              "      <th>1</th>\n",
              "      <td>mar del plata</td>\n",
              "      <td>-38.0023</td>\n",
              "      <td>-57.5575</td>\n",
              "      <td>67.08</td>\n",
              "      <td>95</td>\n",
              "      <td>100</td>\n",
              "      <td>15.99</td>\n",
              "      <td>AR</td>\n",
              "      <td>1644573687</td>\n",
              "    </tr>\n",
              "    <tr>\n",
              "      <th>2</th>\n",
              "      <td>vao</td>\n",
              "      <td>-22.6667</td>\n",
              "      <td>167.4833</td>\n",
              "      <td>81.41</td>\n",
              "      <td>86</td>\n",
              "      <td>100</td>\n",
              "      <td>28.39</td>\n",
              "      <td>NC</td>\n",
              "      <td>1644573687</td>\n",
              "    </tr>\n",
              "    <tr>\n",
              "      <th>3</th>\n",
              "      <td>rembang</td>\n",
              "      <td>-6.7070</td>\n",
              "      <td>111.3498</td>\n",
              "      <td>80.35</td>\n",
              "      <td>84</td>\n",
              "      <td>100</td>\n",
              "      <td>5.66</td>\n",
              "      <td>ID</td>\n",
              "      <td>1644573687</td>\n",
              "    </tr>\n",
              "    <tr>\n",
              "      <th>4</th>\n",
              "      <td>taltal</td>\n",
              "      <td>-25.4000</td>\n",
              "      <td>-70.4833</td>\n",
              "      <td>64.54</td>\n",
              "      <td>81</td>\n",
              "      <td>17</td>\n",
              "      <td>0.65</td>\n",
              "      <td>CL</td>\n",
              "      <td>1644573688</td>\n",
              "    </tr>\n",
              "    <tr>\n",
              "      <th>...</th>\n",
              "      <td>...</td>\n",
              "      <td>...</td>\n",
              "      <td>...</td>\n",
              "      <td>...</td>\n",
              "      <td>...</td>\n",
              "      <td>...</td>\n",
              "      <td>...</td>\n",
              "      <td>...</td>\n",
              "      <td>...</td>\n",
              "    </tr>\n",
              "    <tr>\n",
              "      <th>552</th>\n",
              "      <td>gat</td>\n",
              "      <td>31.6100</td>\n",
              "      <td>34.7642</td>\n",
              "      <td>57.90</td>\n",
              "      <td>100</td>\n",
              "      <td>25</td>\n",
              "      <td>9.48</td>\n",
              "      <td>IL</td>\n",
              "      <td>1644573875</td>\n",
              "    </tr>\n",
              "    <tr>\n",
              "      <th>553</th>\n",
              "      <td>makat</td>\n",
              "      <td>47.6469</td>\n",
              "      <td>53.3463</td>\n",
              "      <td>33.71</td>\n",
              "      <td>88</td>\n",
              "      <td>99</td>\n",
              "      <td>13.31</td>\n",
              "      <td>KZ</td>\n",
              "      <td>1644573875</td>\n",
              "    </tr>\n",
              "    <tr>\n",
              "      <th>554</th>\n",
              "      <td>cehegin</td>\n",
              "      <td>38.0924</td>\n",
              "      <td>-1.7985</td>\n",
              "      <td>51.66</td>\n",
              "      <td>41</td>\n",
              "      <td>93</td>\n",
              "      <td>3.91</td>\n",
              "      <td>ES</td>\n",
              "      <td>1644573875</td>\n",
              "    </tr>\n",
              "    <tr>\n",
              "      <th>555</th>\n",
              "      <td>chincholi</td>\n",
              "      <td>17.4667</td>\n",
              "      <td>77.4333</td>\n",
              "      <td>87.46</td>\n",
              "      <td>23</td>\n",
              "      <td>2</td>\n",
              "      <td>7.63</td>\n",
              "      <td>IN</td>\n",
              "      <td>1644573876</td>\n",
              "    </tr>\n",
              "    <tr>\n",
              "      <th>556</th>\n",
              "      <td>santa teresa</td>\n",
              "      <td>10.2341</td>\n",
              "      <td>-66.6631</td>\n",
              "      <td>68.58</td>\n",
              "      <td>93</td>\n",
              "      <td>67</td>\n",
              "      <td>0.76</td>\n",
              "      <td>VE</td>\n",
              "      <td>1644573728</td>\n",
              "    </tr>\n",
              "  </tbody>\n",
              "</table>\n",
              "<p>557 rows × 9 columns</p>\n",
              "</div>\n",
              "      <button class=\"colab-df-convert\" onclick=\"convertToInteractive('df-1de6721e-ece1-4853-8e48-afa1ff6e8f43')\"\n",
              "              title=\"Convert this dataframe to an interactive table.\"\n",
              "              style=\"display:none;\">\n",
              "        \n",
              "  <svg xmlns=\"http://www.w3.org/2000/svg\" height=\"24px\"viewBox=\"0 0 24 24\"\n",
              "       width=\"24px\">\n",
              "    <path d=\"M0 0h24v24H0V0z\" fill=\"none\"/>\n",
              "    <path d=\"M18.56 5.44l.94 2.06.94-2.06 2.06-.94-2.06-.94-.94-2.06-.94 2.06-2.06.94zm-11 1L8.5 8.5l.94-2.06 2.06-.94-2.06-.94L8.5 2.5l-.94 2.06-2.06.94zm10 10l.94 2.06.94-2.06 2.06-.94-2.06-.94-.94-2.06-.94 2.06-2.06.94z\"/><path d=\"M17.41 7.96l-1.37-1.37c-.4-.4-.92-.59-1.43-.59-.52 0-1.04.2-1.43.59L10.3 9.45l-7.72 7.72c-.78.78-.78 2.05 0 2.83L4 21.41c.39.39.9.59 1.41.59.51 0 1.02-.2 1.41-.59l7.78-7.78 2.81-2.81c.8-.78.8-2.07 0-2.86zM5.41 20L4 18.59l7.72-7.72 1.47 1.35L5.41 20z\"/>\n",
              "  </svg>\n",
              "      </button>\n",
              "      \n",
              "  <style>\n",
              "    .colab-df-container {\n",
              "      display:flex;\n",
              "      flex-wrap:wrap;\n",
              "      gap: 12px;\n",
              "    }\n",
              "\n",
              "    .colab-df-convert {\n",
              "      background-color: #E8F0FE;\n",
              "      border: none;\n",
              "      border-radius: 50%;\n",
              "      cursor: pointer;\n",
              "      display: none;\n",
              "      fill: #1967D2;\n",
              "      height: 32px;\n",
              "      padding: 0 0 0 0;\n",
              "      width: 32px;\n",
              "    }\n",
              "\n",
              "    .colab-df-convert:hover {\n",
              "      background-color: #E2EBFA;\n",
              "      box-shadow: 0px 1px 2px rgba(60, 64, 67, 0.3), 0px 1px 3px 1px rgba(60, 64, 67, 0.15);\n",
              "      fill: #174EA6;\n",
              "    }\n",
              "\n",
              "    [theme=dark] .colab-df-convert {\n",
              "      background-color: #3B4455;\n",
              "      fill: #D2E3FC;\n",
              "    }\n",
              "\n",
              "    [theme=dark] .colab-df-convert:hover {\n",
              "      background-color: #434B5C;\n",
              "      box-shadow: 0px 1px 3px 1px rgba(0, 0, 0, 0.15);\n",
              "      filter: drop-shadow(0px 1px 2px rgba(0, 0, 0, 0.3));\n",
              "      fill: #FFFFFF;\n",
              "    }\n",
              "  </style>\n",
              "\n",
              "      <script>\n",
              "        const buttonEl =\n",
              "          document.querySelector('#df-1de6721e-ece1-4853-8e48-afa1ff6e8f43 button.colab-df-convert');\n",
              "        buttonEl.style.display =\n",
              "          google.colab.kernel.accessAllowed ? 'block' : 'none';\n",
              "\n",
              "        async function convertToInteractive(key) {\n",
              "          const element = document.querySelector('#df-1de6721e-ece1-4853-8e48-afa1ff6e8f43');\n",
              "          const dataTable =\n",
              "            await google.colab.kernel.invokeFunction('convertToInteractive',\n",
              "                                                     [key], {});\n",
              "          if (!dataTable) return;\n",
              "\n",
              "          const docLinkHtml = 'Like what you see? Visit the ' +\n",
              "            '<a target=\"_blank\" href=https://colab.research.google.com/notebooks/data_table.ipynb>data table notebook</a>'\n",
              "            + ' to learn more about interactive tables.';\n",
              "          element.innerHTML = '';\n",
              "          dataTable['output_type'] = 'display_data';\n",
              "          await google.colab.output.renderOutput(dataTable, element);\n",
              "          const docLink = document.createElement('div');\n",
              "          docLink.innerHTML = docLinkHtml;\n",
              "          element.appendChild(docLink);\n",
              "        }\n",
              "      </script>\n",
              "    </div>\n",
              "  </div>\n",
              "  "
            ],
            "text/plain": [
              "              City      Lat       Lng  ...  Wind Speed  Country        Date\n",
              "0            kapaa  22.0752 -159.3190  ...        2.15       US  1644573686\n",
              "1    mar del plata -38.0023  -57.5575  ...       15.99       AR  1644573687\n",
              "2              vao -22.6667  167.4833  ...       28.39       NC  1644573687\n",
              "3          rembang  -6.7070  111.3498  ...        5.66       ID  1644573687\n",
              "4           taltal -25.4000  -70.4833  ...        0.65       CL  1644573688\n",
              "..             ...      ...       ...  ...         ...      ...         ...\n",
              "552            gat  31.6100   34.7642  ...        9.48       IL  1644573875\n",
              "553          makat  47.6469   53.3463  ...       13.31       KZ  1644573875\n",
              "554        cehegin  38.0924   -1.7985  ...        3.91       ES  1644573875\n",
              "555      chincholi  17.4667   77.4333  ...        7.63       IN  1644573876\n",
              "556   santa teresa  10.2341  -66.6631  ...        0.76       VE  1644573728\n",
              "\n",
              "[557 rows x 9 columns]"
            ]
          },
          "metadata": {},
          "execution_count": 12
        }
      ],
      "source": [
        "# Displays the data frame\n",
        "cityData_df"
      ]
    },
    {
      "cell_type": "code",
      "execution_count": 13,
      "metadata": {
        "id": "-yv0XdeRNY58",
        "outputId": "6e7b24dc-43ca-4c1e-a019-4c56d84d7ae2",
        "colab": {
          "base_uri": "https://localhost:8080/",
          "height": 300
        }
      },
      "outputs": [
        {
          "output_type": "execute_result",
          "data": {
            "text/html": [
              "\n",
              "  <div id=\"df-42a4627a-9d5e-47d4-9568-d5a35b4e5efb\">\n",
              "    <div class=\"colab-df-container\">\n",
              "      <div>\n",
              "<style scoped>\n",
              "    .dataframe tbody tr th:only-of-type {\n",
              "        vertical-align: middle;\n",
              "    }\n",
              "\n",
              "    .dataframe tbody tr th {\n",
              "        vertical-align: top;\n",
              "    }\n",
              "\n",
              "    .dataframe thead th {\n",
              "        text-align: right;\n",
              "    }\n",
              "</style>\n",
              "<table border=\"1\" class=\"dataframe\">\n",
              "  <thead>\n",
              "    <tr style=\"text-align: right;\">\n",
              "      <th></th>\n",
              "      <th>Lat</th>\n",
              "      <th>Lng</th>\n",
              "      <th>Max Temp</th>\n",
              "      <th>Humidity</th>\n",
              "      <th>Cloudiness</th>\n",
              "      <th>Wind Speed</th>\n",
              "      <th>Date</th>\n",
              "    </tr>\n",
              "  </thead>\n",
              "  <tbody>\n",
              "    <tr>\n",
              "      <th>count</th>\n",
              "      <td>557.000000</td>\n",
              "      <td>557.000000</td>\n",
              "      <td>557.000000</td>\n",
              "      <td>557.000000</td>\n",
              "      <td>557.000000</td>\n",
              "      <td>557.000000</td>\n",
              "      <td>5.570000e+02</td>\n",
              "    </tr>\n",
              "    <tr>\n",
              "      <th>mean</th>\n",
              "      <td>19.741105</td>\n",
              "      <td>20.019245</td>\n",
              "      <td>51.691131</td>\n",
              "      <td>71.263914</td>\n",
              "      <td>53.842011</td>\n",
              "      <td>7.819210</td>\n",
              "      <td>1.644574e+09</td>\n",
              "    </tr>\n",
              "    <tr>\n",
              "      <th>std</th>\n",
              "      <td>33.534309</td>\n",
              "      <td>91.605539</td>\n",
              "      <td>31.836960</td>\n",
              "      <td>23.017283</td>\n",
              "      <td>40.834552</td>\n",
              "      <td>5.812715</td>\n",
              "      <td>8.607546e+01</td>\n",
              "    </tr>\n",
              "    <tr>\n",
              "      <th>min</th>\n",
              "      <td>-54.800000</td>\n",
              "      <td>-179.166700</td>\n",
              "      <td>-40.790000</td>\n",
              "      <td>7.000000</td>\n",
              "      <td>0.000000</td>\n",
              "      <td>0.000000</td>\n",
              "      <td>1.644573e+09</td>\n",
              "    </tr>\n",
              "    <tr>\n",
              "      <th>25%</th>\n",
              "      <td>-7.381700</td>\n",
              "      <td>-63.057800</td>\n",
              "      <td>33.940000</td>\n",
              "      <td>60.000000</td>\n",
              "      <td>8.000000</td>\n",
              "      <td>3.420000</td>\n",
              "      <td>1.644574e+09</td>\n",
              "    </tr>\n",
              "    <tr>\n",
              "      <th>50%</th>\n",
              "      <td>24.093400</td>\n",
              "      <td>20.040300</td>\n",
              "      <td>60.800000</td>\n",
              "      <td>76.000000</td>\n",
              "      <td>62.000000</td>\n",
              "      <td>6.170000</td>\n",
              "      <td>1.644574e+09</td>\n",
              "    </tr>\n",
              "    <tr>\n",
              "      <th>75%</th>\n",
              "      <td>47.646900</td>\n",
              "      <td>102.500000</td>\n",
              "      <td>77.230000</td>\n",
              "      <td>89.000000</td>\n",
              "      <td>99.000000</td>\n",
              "      <td>10.650000</td>\n",
              "      <td>1.644574e+09</td>\n",
              "    </tr>\n",
              "    <tr>\n",
              "      <th>max</th>\n",
              "      <td>78.218600</td>\n",
              "      <td>179.316700</td>\n",
              "      <td>99.430000</td>\n",
              "      <td>100.000000</td>\n",
              "      <td>100.000000</td>\n",
              "      <td>31.070000</td>\n",
              "      <td>1.644574e+09</td>\n",
              "    </tr>\n",
              "  </tbody>\n",
              "</table>\n",
              "</div>\n",
              "      <button class=\"colab-df-convert\" onclick=\"convertToInteractive('df-42a4627a-9d5e-47d4-9568-d5a35b4e5efb')\"\n",
              "              title=\"Convert this dataframe to an interactive table.\"\n",
              "              style=\"display:none;\">\n",
              "        \n",
              "  <svg xmlns=\"http://www.w3.org/2000/svg\" height=\"24px\"viewBox=\"0 0 24 24\"\n",
              "       width=\"24px\">\n",
              "    <path d=\"M0 0h24v24H0V0z\" fill=\"none\"/>\n",
              "    <path d=\"M18.56 5.44l.94 2.06.94-2.06 2.06-.94-2.06-.94-.94-2.06-.94 2.06-2.06.94zm-11 1L8.5 8.5l.94-2.06 2.06-.94-2.06-.94L8.5 2.5l-.94 2.06-2.06.94zm10 10l.94 2.06.94-2.06 2.06-.94-2.06-.94-.94-2.06-.94 2.06-2.06.94z\"/><path d=\"M17.41 7.96l-1.37-1.37c-.4-.4-.92-.59-1.43-.59-.52 0-1.04.2-1.43.59L10.3 9.45l-7.72 7.72c-.78.78-.78 2.05 0 2.83L4 21.41c.39.39.9.59 1.41.59.51 0 1.02-.2 1.41-.59l7.78-7.78 2.81-2.81c.8-.78.8-2.07 0-2.86zM5.41 20L4 18.59l7.72-7.72 1.47 1.35L5.41 20z\"/>\n",
              "  </svg>\n",
              "      </button>\n",
              "      \n",
              "  <style>\n",
              "    .colab-df-container {\n",
              "      display:flex;\n",
              "      flex-wrap:wrap;\n",
              "      gap: 12px;\n",
              "    }\n",
              "\n",
              "    .colab-df-convert {\n",
              "      background-color: #E8F0FE;\n",
              "      border: none;\n",
              "      border-radius: 50%;\n",
              "      cursor: pointer;\n",
              "      display: none;\n",
              "      fill: #1967D2;\n",
              "      height: 32px;\n",
              "      padding: 0 0 0 0;\n",
              "      width: 32px;\n",
              "    }\n",
              "\n",
              "    .colab-df-convert:hover {\n",
              "      background-color: #E2EBFA;\n",
              "      box-shadow: 0px 1px 2px rgba(60, 64, 67, 0.3), 0px 1px 3px 1px rgba(60, 64, 67, 0.15);\n",
              "      fill: #174EA6;\n",
              "    }\n",
              "\n",
              "    [theme=dark] .colab-df-convert {\n",
              "      background-color: #3B4455;\n",
              "      fill: #D2E3FC;\n",
              "    }\n",
              "\n",
              "    [theme=dark] .colab-df-convert:hover {\n",
              "      background-color: #434B5C;\n",
              "      box-shadow: 0px 1px 3px 1px rgba(0, 0, 0, 0.15);\n",
              "      filter: drop-shadow(0px 1px 2px rgba(0, 0, 0, 0.3));\n",
              "      fill: #FFFFFF;\n",
              "    }\n",
              "  </style>\n",
              "\n",
              "      <script>\n",
              "        const buttonEl =\n",
              "          document.querySelector('#df-42a4627a-9d5e-47d4-9568-d5a35b4e5efb button.colab-df-convert');\n",
              "        buttonEl.style.display =\n",
              "          google.colab.kernel.accessAllowed ? 'block' : 'none';\n",
              "\n",
              "        async function convertToInteractive(key) {\n",
              "          const element = document.querySelector('#df-42a4627a-9d5e-47d4-9568-d5a35b4e5efb');\n",
              "          const dataTable =\n",
              "            await google.colab.kernel.invokeFunction('convertToInteractive',\n",
              "                                                     [key], {});\n",
              "          if (!dataTable) return;\n",
              "\n",
              "          const docLinkHtml = 'Like what you see? Visit the ' +\n",
              "            '<a target=\"_blank\" href=https://colab.research.google.com/notebooks/data_table.ipynb>data table notebook</a>'\n",
              "            + ' to learn more about interactive tables.';\n",
              "          element.innerHTML = '';\n",
              "          dataTable['output_type'] = 'display_data';\n",
              "          await google.colab.output.renderOutput(dataTable, element);\n",
              "          const docLink = document.createElement('div');\n",
              "          docLink.innerHTML = docLinkHtml;\n",
              "          element.appendChild(docLink);\n",
              "        }\n",
              "      </script>\n",
              "    </div>\n",
              "  </div>\n",
              "  "
            ],
            "text/plain": [
              "              Lat         Lng    Max Temp  ...  Cloudiness  Wind Speed          Date\n",
              "count  557.000000  557.000000  557.000000  ...  557.000000  557.000000  5.570000e+02\n",
              "mean    19.741105   20.019245   51.691131  ...   53.842011    7.819210  1.644574e+09\n",
              "std     33.534309   91.605539   31.836960  ...   40.834552    5.812715  8.607546e+01\n",
              "min    -54.800000 -179.166700  -40.790000  ...    0.000000    0.000000  1.644573e+09\n",
              "25%     -7.381700  -63.057800   33.940000  ...    8.000000    3.420000  1.644574e+09\n",
              "50%     24.093400   20.040300   60.800000  ...   62.000000    6.170000  1.644574e+09\n",
              "75%     47.646900  102.500000   77.230000  ...   99.000000   10.650000  1.644574e+09\n",
              "max     78.218600  179.316700   99.430000  ...  100.000000   31.070000  1.644574e+09\n",
              "\n",
              "[8 rows x 7 columns]"
            ]
          },
          "metadata": {},
          "execution_count": 13
        }
      ],
      "source": [
        "cityData_df.describe()"
      ]
    },
    {
      "cell_type": "markdown",
      "metadata": {
        "id": "cLUE7KVjNY58"
      },
      "source": [
        "## Inspect the data and remove the cities where the humidity > 100%.\n",
        "----\n",
        "Skip this step if there are no cities that have humidity > 100%. "
      ]
    },
    {
      "cell_type": "code",
      "execution_count": 14,
      "metadata": {
        "id": "Ao9QNCUFNY59",
        "outputId": "aa8417cd-8d08-480f-9306-ff1a562854f3",
        "colab": {
          "base_uri": "https://localhost:8080/"
        }
      },
      "outputs": [
        {
          "output_type": "execute_result",
          "data": {
            "text/plain": [
              "[85, 267, 270, 294, 306, 386, 390, 410, 431, 464, 472, 504, 552]"
            ]
          },
          "metadata": {},
          "execution_count": 14
        }
      ],
      "source": [
        "#  Get the indices of cities that have humidity over 100%.\n",
        "index_humidity = cityData_df.index[cityData_df[\"Humidity\"] >= 100].tolist()\n",
        "index_humidity"
      ]
    },
    {
      "cell_type": "code",
      "execution_count": 15,
      "metadata": {
        "id": "1pqeWBawNY59",
        "outputId": "8dace752-2a8d-4dce-87a3-8042a6adac5b",
        "colab": {
          "base_uri": "https://localhost:8080/",
          "height": 206
        }
      },
      "outputs": [
        {
          "output_type": "execute_result",
          "data": {
            "text/html": [
              "\n",
              "  <div id=\"df-6a5e4e5e-02a4-42b3-937a-9977179af660\">\n",
              "    <div class=\"colab-df-container\">\n",
              "      <div>\n",
              "<style scoped>\n",
              "    .dataframe tbody tr th:only-of-type {\n",
              "        vertical-align: middle;\n",
              "    }\n",
              "\n",
              "    .dataframe tbody tr th {\n",
              "        vertical-align: top;\n",
              "    }\n",
              "\n",
              "    .dataframe thead th {\n",
              "        text-align: right;\n",
              "    }\n",
              "</style>\n",
              "<table border=\"1\" class=\"dataframe\">\n",
              "  <thead>\n",
              "    <tr style=\"text-align: right;\">\n",
              "      <th></th>\n",
              "      <th>City</th>\n",
              "      <th>Lat</th>\n",
              "      <th>Lng</th>\n",
              "      <th>Max Temp</th>\n",
              "      <th>Humidity</th>\n",
              "      <th>Cloudiness</th>\n",
              "      <th>Wind Speed</th>\n",
              "      <th>Country</th>\n",
              "      <th>Date</th>\n",
              "    </tr>\n",
              "  </thead>\n",
              "  <tbody>\n",
              "    <tr>\n",
              "      <th>0</th>\n",
              "      <td>kapaa</td>\n",
              "      <td>22.0752</td>\n",
              "      <td>-159.3190</td>\n",
              "      <td>65.12</td>\n",
              "      <td>59</td>\n",
              "      <td>0</td>\n",
              "      <td>2.15</td>\n",
              "      <td>US</td>\n",
              "      <td>1644573686</td>\n",
              "    </tr>\n",
              "    <tr>\n",
              "      <th>1</th>\n",
              "      <td>mar del plata</td>\n",
              "      <td>-38.0023</td>\n",
              "      <td>-57.5575</td>\n",
              "      <td>67.08</td>\n",
              "      <td>95</td>\n",
              "      <td>100</td>\n",
              "      <td>15.99</td>\n",
              "      <td>AR</td>\n",
              "      <td>1644573687</td>\n",
              "    </tr>\n",
              "    <tr>\n",
              "      <th>2</th>\n",
              "      <td>vao</td>\n",
              "      <td>-22.6667</td>\n",
              "      <td>167.4833</td>\n",
              "      <td>81.41</td>\n",
              "      <td>86</td>\n",
              "      <td>100</td>\n",
              "      <td>28.39</td>\n",
              "      <td>NC</td>\n",
              "      <td>1644573687</td>\n",
              "    </tr>\n",
              "    <tr>\n",
              "      <th>3</th>\n",
              "      <td>rembang</td>\n",
              "      <td>-6.7070</td>\n",
              "      <td>111.3498</td>\n",
              "      <td>80.35</td>\n",
              "      <td>84</td>\n",
              "      <td>100</td>\n",
              "      <td>5.66</td>\n",
              "      <td>ID</td>\n",
              "      <td>1644573687</td>\n",
              "    </tr>\n",
              "    <tr>\n",
              "      <th>4</th>\n",
              "      <td>taltal</td>\n",
              "      <td>-25.4000</td>\n",
              "      <td>-70.4833</td>\n",
              "      <td>64.54</td>\n",
              "      <td>81</td>\n",
              "      <td>17</td>\n",
              "      <td>0.65</td>\n",
              "      <td>CL</td>\n",
              "      <td>1644573688</td>\n",
              "    </tr>\n",
              "  </tbody>\n",
              "</table>\n",
              "</div>\n",
              "      <button class=\"colab-df-convert\" onclick=\"convertToInteractive('df-6a5e4e5e-02a4-42b3-937a-9977179af660')\"\n",
              "              title=\"Convert this dataframe to an interactive table.\"\n",
              "              style=\"display:none;\">\n",
              "        \n",
              "  <svg xmlns=\"http://www.w3.org/2000/svg\" height=\"24px\"viewBox=\"0 0 24 24\"\n",
              "       width=\"24px\">\n",
              "    <path d=\"M0 0h24v24H0V0z\" fill=\"none\"/>\n",
              "    <path d=\"M18.56 5.44l.94 2.06.94-2.06 2.06-.94-2.06-.94-.94-2.06-.94 2.06-2.06.94zm-11 1L8.5 8.5l.94-2.06 2.06-.94-2.06-.94L8.5 2.5l-.94 2.06-2.06.94zm10 10l.94 2.06.94-2.06 2.06-.94-2.06-.94-.94-2.06-.94 2.06-2.06.94z\"/><path d=\"M17.41 7.96l-1.37-1.37c-.4-.4-.92-.59-1.43-.59-.52 0-1.04.2-1.43.59L10.3 9.45l-7.72 7.72c-.78.78-.78 2.05 0 2.83L4 21.41c.39.39.9.59 1.41.59.51 0 1.02-.2 1.41-.59l7.78-7.78 2.81-2.81c.8-.78.8-2.07 0-2.86zM5.41 20L4 18.59l7.72-7.72 1.47 1.35L5.41 20z\"/>\n",
              "  </svg>\n",
              "      </button>\n",
              "      \n",
              "  <style>\n",
              "    .colab-df-container {\n",
              "      display:flex;\n",
              "      flex-wrap:wrap;\n",
              "      gap: 12px;\n",
              "    }\n",
              "\n",
              "    .colab-df-convert {\n",
              "      background-color: #E8F0FE;\n",
              "      border: none;\n",
              "      border-radius: 50%;\n",
              "      cursor: pointer;\n",
              "      display: none;\n",
              "      fill: #1967D2;\n",
              "      height: 32px;\n",
              "      padding: 0 0 0 0;\n",
              "      width: 32px;\n",
              "    }\n",
              "\n",
              "    .colab-df-convert:hover {\n",
              "      background-color: #E2EBFA;\n",
              "      box-shadow: 0px 1px 2px rgba(60, 64, 67, 0.3), 0px 1px 3px 1px rgba(60, 64, 67, 0.15);\n",
              "      fill: #174EA6;\n",
              "    }\n",
              "\n",
              "    [theme=dark] .colab-df-convert {\n",
              "      background-color: #3B4455;\n",
              "      fill: #D2E3FC;\n",
              "    }\n",
              "\n",
              "    [theme=dark] .colab-df-convert:hover {\n",
              "      background-color: #434B5C;\n",
              "      box-shadow: 0px 1px 3px 1px rgba(0, 0, 0, 0.15);\n",
              "      filter: drop-shadow(0px 1px 2px rgba(0, 0, 0, 0.3));\n",
              "      fill: #FFFFFF;\n",
              "    }\n",
              "  </style>\n",
              "\n",
              "      <script>\n",
              "        const buttonEl =\n",
              "          document.querySelector('#df-6a5e4e5e-02a4-42b3-937a-9977179af660 button.colab-df-convert');\n",
              "        buttonEl.style.display =\n",
              "          google.colab.kernel.accessAllowed ? 'block' : 'none';\n",
              "\n",
              "        async function convertToInteractive(key) {\n",
              "          const element = document.querySelector('#df-6a5e4e5e-02a4-42b3-937a-9977179af660');\n",
              "          const dataTable =\n",
              "            await google.colab.kernel.invokeFunction('convertToInteractive',\n",
              "                                                     [key], {});\n",
              "          if (!dataTable) return;\n",
              "\n",
              "          const docLinkHtml = 'Like what you see? Visit the ' +\n",
              "            '<a target=\"_blank\" href=https://colab.research.google.com/notebooks/data_table.ipynb>data table notebook</a>'\n",
              "            + ' to learn more about interactive tables.';\n",
              "          element.innerHTML = '';\n",
              "          dataTable['output_type'] = 'display_data';\n",
              "          await google.colab.output.renderOutput(dataTable, element);\n",
              "          const docLink = document.createElement('div');\n",
              "          docLink.innerHTML = docLinkHtml;\n",
              "          element.appendChild(docLink);\n",
              "        }\n",
              "      </script>\n",
              "    </div>\n",
              "  </div>\n",
              "  "
            ],
            "text/plain": [
              "            City      Lat       Lng  ...  Wind Speed  Country        Date\n",
              "0          kapaa  22.0752 -159.3190  ...        2.15       US  1644573686\n",
              "1  mar del plata -38.0023  -57.5575  ...       15.99       AR  1644573687\n",
              "2            vao -22.6667  167.4833  ...       28.39       NC  1644573687\n",
              "3        rembang  -6.7070  111.3498  ...        5.66       ID  1644573687\n",
              "4         taltal -25.4000  -70.4833  ...        0.65       CL  1644573688\n",
              "\n",
              "[5 rows x 9 columns]"
            ]
          },
          "metadata": {},
          "execution_count": 15
        }
      ],
      "source": [
        "# Make a new DataFrame equal to the city data to drop all humidity outliers by index.\n",
        "# Passing \"inplace=False\" will make a copy of the city_data DataFrame, which we call \"clean_city_data\".\n",
        "clean_city_data = cityData_df.drop(index_humidity)\n",
        "clean_city_data.head()"
      ]
    },
    {
      "cell_type": "markdown",
      "metadata": {
        "id": "pyOdLN22NY59"
      },
      "source": [
        "## Plotting the Data\n",
        "* Use proper labeling of the plots using plot titles (including date of analysis) and axes labels.\n",
        "* Save the plotted figures as .pngs."
      ]
    },
    {
      "cell_type": "markdown",
      "metadata": {
        "id": "f69OAY56NY59"
      },
      "source": [
        "## Latitude vs. Temperature Plot"
      ]
    },
    {
      "cell_type": "code",
      "execution_count": 17,
      "metadata": {
        "scrolled": true,
        "id": "XI6pDLrtNY5-",
        "outputId": "39b90250-d14c-4b0b-af75-5736cfcda43c",
        "colab": {
          "base_uri": "https://localhost:8080/",
          "height": 295
        }
      },
      "outputs": [
        {
          "output_type": "display_data",
          "data": {
            "image/png": "[encoded data removed]",
            "text/plain": [
              "<Figure size 432x288 with 1 Axes>"
            ]
          },
          "metadata": {
            "needs_background": "light"
          }
        }
      ],
      "source": [
        "plt.scatter(x=clean_city_data[\"Lat\"], y=clean_city_data[\"Max Temp\"])\n",
        "plt.title(f\"City Latitude vs Max Temperature ({datetime.today().strftime('%m/%d/%y')})\")\n",
        "plt.xlabel(\"Latitude\")\n",
        "plt.ylabel(\"Max Temperature (F)\")\n",
        "plt.grid()\n",
        "plt.show()"
      ]
    },
    {
      "cell_type": "markdown",
      "metadata": {
        "id": "r6Lk1X13NY5-"
      },
      "source": [
        "## Latitude vs. Humidity Plot"
      ]
    },
    {
      "cell_type": "code",
      "execution_count": 18,
      "metadata": {
        "id": "BDwIDUH_NY5-",
        "outputId": "09da1487-e703-4c89-c671-4bd0febec6b5",
        "colab": {
          "base_uri": "https://localhost:8080/",
          "height": 295
        }
      },
      "outputs": [
        {
          "output_type": "display_data",
          "data": {
            "image/png": "[encoded data removed]",
            "text/plain": [
              "<Figure size 432x288 with 1 Axes>"
            ]
          },
          "metadata": {
            "needs_background": "light"
          }
        }
      ],
      "source": [
        "plt.scatter(x=clean_city_data[\"Lat\"], y=clean_city_data[\"Humidity\"])\n",
        "plt.title(f\"City Latitude vs Humidity ({datetime.today().strftime('%m/%d/%y')})\")\n",
        "plt.xlabel(\"Latitude\")\n",
        "plt.ylabel(\"Humidity (%)\")\n",
        "plt.grid()\n",
        "plt.show()"
      ]
    },
    {
      "cell_type": "markdown",
      "metadata": {
        "id": "GtYIqltkNY5-"
      },
      "source": [
        "## Latitude vs. Cloudiness Plot"
      ]
    },
    {
      "cell_type": "code",
      "execution_count": 19,
      "metadata": {
        "id": "Y0-RJpfJNY5_",
        "outputId": "73295b43-8acc-449d-ce98-9624c583f06d",
        "colab": {
          "base_uri": "https://localhost:8080/",
          "height": 295
        }
      },
      "outputs": [
        {
          "output_type": "display_data",
          "data": {
            "image/png": "[encoded data removed]",
            "text/plain": [
              "<Figure size 432x288 with 1 Axes>"
            ]
          },
          "metadata": {
            "needs_background": "light"
          }
        }
      ],
      "source": [
        "plt.scatter(x=clean_city_data[\"Lat\"], y=clean_city_data[\"Cloudiness\"])\n",
        "plt.title(f\"City Latitude vs Cloudiness ({datetime.today().strftime('%m/%d/%y')})\")\n",
        "plt.xlabel(\"Latitude\")\n",
        "plt.ylabel(\"Cloudiness (%)\")\n",
        "plt.grid()\n",
        "plt.show()"
      ]
    },
    {
      "cell_type": "markdown",
      "metadata": {
        "id": "0nEzXNq1NY5_"
      },
      "source": [
        "## Latitude vs. Wind Speed Plot"
      ]
    },
    {
      "cell_type": "code",
      "execution_count": 20,
      "metadata": {
        "id": "PTpXZSA9NY5_",
        "outputId": "2ffec92e-84d1-4248-c5f0-2176ca5e97f9",
        "colab": {
          "base_uri": "https://localhost:8080/",
          "height": 295
        }
      },
      "outputs": [
        {
          "output_type": "display_data",
          "data": {
            "image/png": "[encoded data removed]",
            "text/plain": [
              "<Figure size 432x288 with 1 Axes>"
            ]
          },
          "metadata": {
            "needs_background": "light"
          }
        }
      ],
      "source": [
        "plt.scatter(x=clean_city_data[\"Lat\"], y=clean_city_data[\"Wind Speed\"])\n",
        "plt.title(f\"City Latitude vs Wind Speed ({datetime.today().strftime('%m/%d/%y')})\")\n",
        "plt.xlabel(\"Latitude\")\n",
        "plt.ylabel(\"Wind Speed (mph)\")\n",
        "plt.grid()\n",
        "plt.show()"
      ]
    },
    {
      "cell_type": "markdown",
      "metadata": {
        "id": "pMoyL5z-NY5_"
      },
      "source": [
        "## Linear Regression"
      ]
    },
    {
      "cell_type": "code",
      "execution_count": 21,
      "metadata": {
        "id": "DF-B6k2dNY5_"
      },
      "outputs": [],
      "source": [
        "# Divides the data frames into northern and souther hemispheres\n",
        "north_hem = clean_city_data.loc[clean_city_data[\"Lat\"] > 0]\n",
        "south_hem = clean_city_data.loc[clean_city_data[\"Lat\"] < 0]\n",
        "\n",
        "# Establish y values to find St. Pearson Correlation Coefficient for Latitude for Hemispheres\n",
        "north_lat = north_hem[\"Lat\"]\n",
        "south_lat = south_hem[\"Lat\"]"
      ]
    },
    {
      "cell_type": "markdown",
      "metadata": {
        "id": "PxNVeBRYNY5_"
      },
      "source": [
        "####  Northern Hemisphere - Max Temp vs. Latitude Linear Regression"
      ]
    },
    {
      "cell_type": "code",
      "execution_count": 27,
      "metadata": {
        "id": "eU9jOAyINY6A",
        "outputId": "f14f3ebb-4fc3-47b5-872b-c02449ceb291",
        "colab": {
          "base_uri": "https://localhost:8080/",
          "height": 296
        }
      },
      "outputs": [
        {
          "output_type": "stream",
          "name": "stdout",
          "text": [
            "The r-value is: -0.88\n"
          ]
        },
        {
          "output_type": "display_data",
          "data": {
            "image/png": "[encoded data removed]",
            "text/plain": [
              "<Figure size 432x288 with 1 Axes>"
            ]
          },
          "metadata": {
            "needs_background": "light"
          }
        }
      ],
      "source": [
        "# Establish x value and find St. Pearson Correlation Coefficient for Max Temp\n",
        "north_temp = north_hem[\"Max Temp\"]\n",
        "\n",
        "# Print St. Pearson Correlation Coefficient\n",
        "print(f\"The r-value is: {round(st.pearsonr(north_lat, north_temp)[0],2)}\")\n",
        "\n",
        "# establish linear regression values\n",
        "slope, inter, r, p, std_err = st.linregress(north_lat, north_temp)\n",
        "\n",
        "# linear regression line \n",
        "fit = slope * north_lat + inter\n",
        "\n",
        "# Equation for slope\n",
        "line_equation = \"y = {:.2f}x + {:.2f}\".format(slope, inter)\n",
        "\n",
        "# scatter plot of the data\n",
        "plt.scatter(x=north_hem[\"Lat\"], y=north_hem[\"Max Temp\"])\n",
        "plt.plot(north_lat, fit, \"-\", color=\"r\")\n",
        "plt.xlabel(\"Latitude\")\n",
        "plt.ylabel(\"Max Temp\")\n",
        "plt.annotate(line_equation, (5,0), fontsize=15, color=\"r\")\n",
        "plt.show()"
      ]
    },
    {
      "cell_type": "markdown",
      "metadata": {
        "id": "x8w6kFAWNY6A"
      },
      "source": [
        "####  Southern Hemisphere - Max Temp vs. Latitude Linear Regression"
      ]
    },
    {
      "cell_type": "code",
      "execution_count": 28,
      "metadata": {
        "id": "rQbM0s8xNY6A",
        "outputId": "645e1b26-2286-4877-b1fe-cbc5924564f5",
        "colab": {
          "base_uri": "https://localhost:8080/",
          "height": 296
        }
      },
      "outputs": [
        {
          "output_type": "stream",
          "name": "stdout",
          "text": [
            "The r-value is: 0.61\n"
          ]
        },
        {
          "output_type": "display_data",
          "data": {
            "image/png": "[encoded data removed]",
            "text/plain": [
              "<Figure size 432x288 with 1 Axes>"
            ]
          },
          "metadata": {
            "needs_background": "light"
          }
        }
      ],
      "source": [
        "# Establish x value and find St. Pearson Correlation Coefficient for Max Temp\n",
        "south_temp = south_hem[\"Max Temp\"]\n",
        "\n",
        "# Print St. Pearson Correlation Coefficient\n",
        "print(f\"The r-value is: {round(st.pearsonr(south_lat, south_temp)[0],2)}\")\n",
        "\n",
        "# establish linear regression values\n",
        "slope, inter, r, p, std_err = st.linregress(south_lat, south_temp)\n",
        "\n",
        "# linear regression line \n",
        "fit = slope * south_lat + inter\n",
        "\n",
        "# Equation for slope\n",
        "line_equation = \"y = {:.2f}x + {:.2f}\".format(slope, inter)\n",
        "\n",
        "# scatter plot of the data\n",
        "plt.scatter(x=south_hem[\"Lat\"], y=south_hem[\"Max Temp\"])\n",
        "plt.plot(south_lat, fit, \"-\", color=\"r\")\n",
        "plt.xlabel(\"Latitude\")\n",
        "plt.ylabel(\"Max Temp\")\n",
        "plt.annotate(line_equation, (-55,80), fontsize=15, color=\"r\")\n",
        "plt.show()"
      ]
    },
    {
      "cell_type": "markdown",
      "metadata": {
        "id": "Rqa1edm5NY6A"
      },
      "source": [
        "####  Northern Hemisphere - Humidity (%) vs. Latitude Linear Regression"
      ]
    },
    {
      "cell_type": "code",
      "execution_count": 29,
      "metadata": {
        "id": "ca2-_nPwNY6A",
        "outputId": "dfa92b70-0a0e-4116-b037-6f24c35e03de",
        "colab": {
          "base_uri": "https://localhost:8080/",
          "height": 296
        }
      },
      "outputs": [
        {
          "output_type": "stream",
          "name": "stdout",
          "text": [
            "The r-value is: 0.48\n"
          ]
        },
        {
          "output_type": "display_data",
          "data": {
            "image/png": "[encoded data removed]",
            "text/plain": [
              "<Figure size 432x288 with 1 Axes>"
            ]
          },
          "metadata": {
            "needs_background": "light"
          }
        }
      ],
      "source": [
        "# Establish x value and find St. Pearson Correlation Coefficient for Humidity\n",
        "north_hum = north_hem[\"Humidity\"]\n",
        "\n",
        "# Print St. Pearson Correlation Coefficient\n",
        "print(f\"The r-value is: {round(st.pearsonr(north_lat, north_hum)[0],2)}\")\n",
        "\n",
        "# establish linear regression values\n",
        "slope, inter, r, p, std_err = st.linregress(north_lat, north_hum)\n",
        "\n",
        "# linear regression line \n",
        "fit = slope * north_lat + inter\n",
        "\n",
        "# Equation for slope\n",
        "line_equation = \"y = {:.2f}x + {:.2f}\".format(slope, inter)\n",
        "\n",
        "# scatter plot of the data\n",
        "plt.scatter(x=north_hem[\"Lat\"], y=north_hem[\"Humidity\"])\n",
        "plt.plot(north_lat, fit, \"-\", color=\"r\")\n",
        "plt.xlabel(\"Latitude\")\n",
        "plt.ylabel(\"Humidity\")\n",
        "plt.annotate(line_equation, (40,8), fontsize=15, color=\"r\")\n",
        "plt.show()"
      ]
    },
    {
      "cell_type": "markdown",
      "metadata": {
        "id": "B3-SD_yPNY6B"
      },
      "source": [
        "####  Southern Hemisphere - Humidity (%) vs. Latitude Linear Regression"
      ]
    },
    {
      "cell_type": "code",
      "execution_count": 30,
      "metadata": {
        "id": "J33aQHHiNY6B",
        "outputId": "4d80dda0-b8e8-462f-e856-e534b234bbc8",
        "colab": {
          "base_uri": "https://localhost:8080/",
          "height": 296
        }
      },
      "outputs": [
        {
          "output_type": "stream",
          "name": "stdout",
          "text": [
            "The r-value is: 0.21\n"
          ]
        },
        {
          "output_type": "display_data",
          "data": {
            "image/png": "[encoded data removed]",
            "text/plain": [
              "<Figure size 432x288 with 1 Axes>"
            ]
          },
          "metadata": {
            "needs_background": "light"
          }
        }
      ],
      "source": [
        "# Establish x value and find St. Pearson Correlation Coefficient for Humidity\n",
        "south_hum = south_hem[\"Humidity\"]\n",
        "\n",
        "# Print St. Pearson Correlation Coefficient\n",
        "print(f\"The r-value is: {round(st.pearsonr(south_lat, south_hum)[0],2)}\")\n",
        "\n",
        "# establish linear regression values\n",
        "slope, inter, r, p, std_err = st.linregress(south_lat, south_hum)\n",
        "\n",
        "# linear regression line \n",
        "fit = slope * south_lat + inter\n",
        "\n",
        "# Equation for slope\n",
        "line_equation = \"y = {:.2f}x + {:.2f}\".format(slope, inter)\n",
        "\n",
        "# scatter plot of the data\n",
        "plt.scatter(x=south_hem[\"Lat\"], y=south_hem[\"Humidity\"])\n",
        "plt.plot(south_lat, fit, \"-\", color=\"r\")\n",
        "plt.xlabel(\"Latitude\")\n",
        "plt.ylabel(\"Humidity\")\n",
        "plt.annotate(line_equation, (-55,20), fontsize=15, color=\"r\")\n",
        "plt.show()"
      ]
    },
    {
      "cell_type": "markdown",
      "metadata": {
        "id": "yrIgwDEiNY6C"
      },
      "source": [
        "####  Northern Hemisphere - Cloudiness (%) vs. Latitude Linear Regression"
      ]
    },
    {
      "cell_type": "code",
      "execution_count": 31,
      "metadata": {
        "id": "2cO218H9NY6D",
        "outputId": "da3d4238-21b3-44e6-c4ec-7c720628d645",
        "colab": {
          "base_uri": "https://localhost:8080/",
          "height": 296
        }
      },
      "outputs": [
        {
          "output_type": "stream",
          "name": "stdout",
          "text": [
            "The r-value is: 0.28\n"
          ]
        },
        {
          "output_type": "display_data",
          "data": {
            "image/png": "[encoded data removed]",
            "text/plain": [
              "<Figure size 432x288 with 1 Axes>"
            ]
          },
          "metadata": {
            "needs_background": "light"
          }
        }
      ],
      "source": [
        "# Establish x value and find St. Pearson Correlation Coefficient for Cloudiness\n",
        "north_cloud = north_hem[\"Cloudiness\"]\n",
        "\n",
        "# Print St. Pearson Correlation Coefficient\n",
        "print(f\"The r-value is: {round(st.pearsonr(north_lat, north_cloud)[0],2)}\")\n",
        "\n",
        "# establish linear regression values\n",
        "slope, inter, r, p, std_err = st.linregress(north_lat, north_cloud)\n",
        "\n",
        "# linear regression line \n",
        "fit = slope * north_lat + inter\n",
        "\n",
        "# Equation for slope\n",
        "line_equation = \"y = {:.2f}x + {:.2f}\".format(slope, inter)\n",
        "\n",
        "# scatter plot of the data\n",
        "plt.scatter(x=north_hem[\"Lat\"], y=north_hem[\"Cloudiness\"])\n",
        "plt.plot(north_lat, fit, \"-\", color=\"r\")\n",
        "plt.xlabel(\"Latitude\")\n",
        "plt.ylabel(\"Cloudiness\")\n",
        "plt.annotate(line_equation, (50,10), fontsize=15, color=\"r\")\n",
        "plt.show()"
      ]
    },
    {
      "cell_type": "markdown",
      "metadata": {
        "id": "S8bVm6G3NY6D"
      },
      "source": [
        "####  Southern Hemisphere - Cloudiness (%) vs. Latitude Linear Regression"
      ]
    },
    {
      "cell_type": "code",
      "execution_count": 36,
      "metadata": {
        "id": "LGLkQRbXNY6D",
        "outputId": "c50c1f92-e953-4c72-d26a-5e3991081b47",
        "colab": {
          "base_uri": "https://localhost:8080/",
          "height": 296
        }
      },
      "outputs": [
        {
          "output_type": "stream",
          "name": "stdout",
          "text": [
            "The r-value is: 0.44\n"
          ]
        },
        {
          "output_type": "display_data",
          "data": {
            "image/png": "[encoded data removed]",
            "text/plain": [
              "<Figure size 432x288 with 1 Axes>"
            ]
          },
          "metadata": {
            "needs_background": "light"
          }
        }
      ],
      "source": [
        "# Establish x value and find St. Pearson Correlation Coefficient for Cloudiness\n",
        "south_cloud = south_hem[\"Cloudiness\"]\n",
        "\n",
        "# Print St. Pearson Correlation Coefficient\n",
        "print(f\"The r-value is: {round(st.pearsonr(south_lat, south_cloud)[0],2)}\")\n",
        "\n",
        "# establish linear regression values\n",
        "slope, inter, r, p, std_err = st.linregress(south_lat, south_cloud)\n",
        "\n",
        "# linear regression line \n",
        "fit = slope * south_lat + inter\n",
        "\n",
        "# Equation for slope\n",
        "line_equation = \"y = {:.2f}x + {:.2f}\".format(slope, inter)\n",
        "\n",
        "# scatter plot of the data\n",
        "plt.scatter(x=south_hem[\"Lat\"], y=south_hem[\"Cloudiness\"])\n",
        "plt.plot(south_lat, fit, \"-\", color=\"r\")\n",
        "plt.xlabel(\"Latitude\")\n",
        "plt.ylabel(\"Cloudiness\")\n",
        "plt.annotate(line_equation, (-55,15), fontsize=15, color=\"r\")\n",
        "plt.show()"
      ]
    },
    {
      "cell_type": "markdown",
      "metadata": {
        "id": "xkvFjeYNNY6D"
      },
      "source": [
        "####  Northern Hemisphere - Wind Speed (mph) vs. Latitude Linear Regression"
      ]
    },
    {
      "cell_type": "code",
      "execution_count": 34,
      "metadata": {
        "id": "F1_Of5e9NY6D",
        "outputId": "e808837e-1eaf-419d-ee91-4937a482ce7f",
        "colab": {
          "base_uri": "https://localhost:8080/",
          "height": 323
        }
      },
      "outputs": [
        {
          "output_type": "stream",
          "name": "stdout",
          "text": [
            "The r-value is: 0.03\n"
          ]
        },
        {
          "output_type": "display_data",
          "data": {
            "image/png": "[encoded data removed]",
            "text/plain": [
              "<Figure size 432x288 with 1 Axes>"
            ]
          },
          "metadata": {
            "needs_background": "light"
          }
        }
      ],
      "source": [
        "# Establish x value and find St. Pearson Correlation Coefficient for Wind Speed\n",
        "north_spd = north_hem[\"Wind Speed\"]\n",
        "\n",
        "# Print St. Pearson Correlation Coefficient\n",
        "print(f\"The r-value is: {round(st.pearsonr(north_lat, north_spd)[0],2)}\")\n",
        "\n",
        "# establish linear regression values\n",
        "slope, inter, r, p, std_err = st.linregress(north_lat, north_spd)\n",
        "\n",
        "# linear regression line \n",
        "fit = slope * north_lat + inter\n",
        "\n",
        "# Equation for slope\n",
        "line_equation = \"y = {:.2f}x + {:.2f}\".format(slope, inter)\n",
        "\n",
        "# scatter plot of the data\n",
        "plt.scatter(x=north_hem[\"Lat\"], y=north_hem[\"Wind Speed\"])\n",
        "plt.plot(north_lat, fit, \"-\", color=\"r\")\n",
        "plt.xlabel(\"Latitude\")\n",
        "plt.ylabel(\"Wind Speed\")\n",
        "plt.annotate(line_equation, (0,35), fontsize=15, color=\"r\")\n",
        "plt.show()"
      ]
    },
    {
      "cell_type": "markdown",
      "metadata": {
        "id": "ekZjxIgXNY6E"
      },
      "source": [
        "####  Southern Hemisphere - Wind Speed (mph) vs. Latitude Linear Regression"
      ]
    },
    {
      "cell_type": "code",
      "execution_count": 35,
      "metadata": {
        "id": "eCS4WtQSNY6E",
        "outputId": "b7f53f64-4e73-4e98-b6cf-7b2284edc11f",
        "colab": {
          "base_uri": "https://localhost:8080/",
          "height": 296
        }
      },
      "outputs": [
        {
          "output_type": "stream",
          "name": "stdout",
          "text": [
            "The r-value is: -0.28\n"
          ]
        },
        {
          "output_type": "display_data",
          "data": {
            "image/png": "[encoded data removed]",
            "text/plain": [
              "<Figure size 432x288 with 1 Axes>"
            ]
          },
          "metadata": {
            "needs_background": "light"
          }
        }
      ],
      "source": [
        "# Establish x value and find St. Pearson Correlation Coefficient for Wind Speed\n",
        "south_spd = south_hem[\"Wind Speed\"]\n",
        "\n",
        "# Print St. Pearson Correlation Coefficient\n",
        "print(f\"The r-value is: {round(st.pearsonr(south_lat, south_spd)[0],2)}\")\n",
        "\n",
        "# establish linear regression values\n",
        "slope, inter, r, p, std_err = st.linregress(south_lat, south_spd)\n",
        "\n",
        "# linear regression line \n",
        "fit = slope * south_lat + inter\n",
        "\n",
        "# Equation for slope\n",
        "line_equation = \"y = {:.2f}x + {:.2f}\".format(slope, inter)\n",
        "\n",
        "# scatter plot of the data\n",
        "plt.scatter(x=south_hem[\"Lat\"], y=south_hem[\"Wind Speed\"])\n",
        "plt.plot(south_lat, fit, \"-\", color=\"r\")\n",
        "plt.xlabel(\"Latitude\")\n",
        "plt.ylabel(\"Wind Speed\")\n",
        "plt.annotate(line_equation, (-55,25), fontsize=15, color=\"r\")\n",
        "plt.show()"
      ]
    },
    {
      "cell_type": "markdown",
      "metadata": {
        "id": "k9PTqUsPNY6E"
      },
      "source": [
        "# Observable Trends\n",
        "## 3 trends that can be observed from the plots\n",
        "### 1) Temperatures increase as the latitude approaches the equator (0), and decreases as moves away\n",
        "### 2) No correlation can be seen in cloudiness, wind speed, or humidity along different latitudes\n",
        "### 3) Cloudiness has a greater deviation in values than any other factor"
      ]
    }
  ],
  "metadata": {
    "anaconda-cloud": {},
    "kernel_info": {
      "name": "python3"
    },
    "kernelspec": {
      "display_name": "Python 3",
      "language": "python",
      "name": "python3"
    },
    "language_info": {
      "codemirror_mode": {
        "name": "ipython",
        "version": 3
      },
      "file_extension": ".py",
      "mimetype": "text/x-python",
      "name": "python",
      "nbconvert_exporter": "python",
      "pygments_lexer": "ipython3",
      "version": "3.8.5"
    },
    "latex_envs": {
      "LaTeX_envs_menu_present": true,
      "autoclose": false,
      "autocomplete": true,
      "bibliofile": "biblio.bib",
      "cite_by": "apalike",
      "current_citInitial": 1,
      "eqLabelWithNumbers": true,
      "eqNumInitial": 1,
      "hotkeys": {
        "equation": "Ctrl-E",
        "itemize": "Ctrl-I"
      },
      "labels_anchors": false,
      "latex_user_defs": false,
      "report_style_numbering": false,
      "user_envs_cfg": false
    },
    "nteract": {
      "version": "0.12.3"
    },
    "colab": {
      "name": "WeatherPy.ipynb",
      "provenance": [],
      "include_colab_link": true
    }
  },
  "nbformat": 4,
  "nbformat_minor": 0
}